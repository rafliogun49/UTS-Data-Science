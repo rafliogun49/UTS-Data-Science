{
  "nbformat": 4,
  "nbformat_minor": 0,
  "metadata": {
    "colab": {
      "name": "UTS2.ipynb",
      "provenance": [],
      "collapsed_sections": []
    },
    "kernelspec": {
      "name": "python3",
      "display_name": "Python 3"
    },
    "language_info": {
      "name": "python"
    }
  },
  "cells": [
    {
      "cell_type": "markdown",
      "source": [
        "# Average Age of Countries Analysis "
      ],
      "metadata": {
        "id": "jLwpo7yz142e"
      }
    },
    {
      "cell_type": "markdown",
      "source": [
        "Muhammad Rafli\n",
        "240310190"
      ],
      "metadata": {
        "id": "AfqhFdBrAIHe"
      }
    },
    {
      "cell_type": "markdown",
      "source": [
        "Import library pandas, matplotlib, dan scipy"
      ],
      "metadata": {
        "id": "rfoF1aoH2Dyd"
      }
    },
    {
      "cell_type": "code",
      "execution_count": null,
      "metadata": {
        "id": "pWGJhb-bcHUb"
      },
      "outputs": [],
      "source": [
        "import pandas as pd # mengimport library pandas\n",
        "import matplotlib.pyplot as plt # mengimport library matplotlib\n",
        "from scipy import stats as sts # mengimport scipy"
      ]
    },
    {
      "cell_type": "markdown",
      "source": [
        "membuat dataframe dari data MedianAge.csv"
      ],
      "metadata": {
        "id": "NvsSxwBCOx3n"
      }
    },
    {
      "cell_type": "code",
      "source": [
        "df = pd.read_csv(\"MedianAge.csv\") # membuat dataframe dengan cara membaca data MedianAge.csv\n",
        "df.head() # menampilkan 5 data pertama dari tabel"
      ],
      "metadata": {
        "colab": {
          "base_uri": "https://localhost:8080/",
          "height": 300
        },
        "id": "a_kcEPyDdpYh",
        "outputId": "067215ef-83bc-4cc6-b16d-520116bb9f12"
      },
      "execution_count": null,
      "outputs": [
        {
          "output_type": "execute_result",
          "data": {
            "text/plain": [
              "       Country    1950    1955    1960    1965    1970    1975    1980  \\\n",
              "0  Afghanistan  18.597  18.462  18.311  18.193  17.994  17.648  17.357   \n",
              "1      Albania  20.640  20.202  19.677  18.955  18.844  19.490  21.349   \n",
              "2      Algeria  19.927  19.307  18.170  16.742  15.808  16.165  16.910   \n",
              "3       Angola  19.401  18.882  18.244  17.481  16.987  16.828  16.652   \n",
              "4    Argentina  25.657  26.471  27.070  27.398  27.593  27.663  27.377   \n",
              "\n",
              "     1985    1990  ...    2005    2010    2015    2020    2025    2030  \\\n",
              "0  17.091  16.845  ...  16.490  16.868  17.326  17.810  18.319  18.936   \n",
              "1  22.505  23.815  ...  28.532  29.968  31.796  33.636  35.737  37.988   \n",
              "2  17.318  18.183  ...  24.015  26.247  28.311  30.333  32.300  34.187   \n",
              "3  16.449  16.198  ...  16.718  17.385  17.989  18.658  19.510  20.435   \n",
              "4  27.463  27.574  ...  29.120  30.439  31.615  32.837  34.147  35.551   \n",
              "\n",
              "     2035    2040    2045    2050  \n",
              "0  19.775  20.918  22.196  23.522  \n",
              "1  40.292  42.258  43.702  44.268  \n",
              "2  35.547  36.877  38.145  39.416  \n",
              "3  21.623  22.891  24.197  25.561  \n",
              "4  36.931  38.163  39.271  40.386  \n",
              "\n",
              "[5 rows x 22 columns]"
            ],
            "text/html": [
              "\n",
              "  <div id=\"df-f4ea73ef-592b-480f-aa58-1b2302356651\">\n",
              "    <div class=\"colab-df-container\">\n",
              "      <div>\n",
              "<style scoped>\n",
              "    .dataframe tbody tr th:only-of-type {\n",
              "        vertical-align: middle;\n",
              "    }\n",
              "\n",
              "    .dataframe tbody tr th {\n",
              "        vertical-align: top;\n",
              "    }\n",
              "\n",
              "    .dataframe thead th {\n",
              "        text-align: right;\n",
              "    }\n",
              "</style>\n",
              "<table border=\"1\" class=\"dataframe\">\n",
              "  <thead>\n",
              "    <tr style=\"text-align: right;\">\n",
              "      <th></th>\n",
              "      <th>Country</th>\n",
              "      <th>1950</th>\n",
              "      <th>1955</th>\n",
              "      <th>1960</th>\n",
              "      <th>1965</th>\n",
              "      <th>1970</th>\n",
              "      <th>1975</th>\n",
              "      <th>1980</th>\n",
              "      <th>1985</th>\n",
              "      <th>1990</th>\n",
              "      <th>...</th>\n",
              "      <th>2005</th>\n",
              "      <th>2010</th>\n",
              "      <th>2015</th>\n",
              "      <th>2020</th>\n",
              "      <th>2025</th>\n",
              "      <th>2030</th>\n",
              "      <th>2035</th>\n",
              "      <th>2040</th>\n",
              "      <th>2045</th>\n",
              "      <th>2050</th>\n",
              "    </tr>\n",
              "  </thead>\n",
              "  <tbody>\n",
              "    <tr>\n",
              "      <th>0</th>\n",
              "      <td>Afghanistan</td>\n",
              "      <td>18.597</td>\n",
              "      <td>18.462</td>\n",
              "      <td>18.311</td>\n",
              "      <td>18.193</td>\n",
              "      <td>17.994</td>\n",
              "      <td>17.648</td>\n",
              "      <td>17.357</td>\n",
              "      <td>17.091</td>\n",
              "      <td>16.845</td>\n",
              "      <td>...</td>\n",
              "      <td>16.490</td>\n",
              "      <td>16.868</td>\n",
              "      <td>17.326</td>\n",
              "      <td>17.810</td>\n",
              "      <td>18.319</td>\n",
              "      <td>18.936</td>\n",
              "      <td>19.775</td>\n",
              "      <td>20.918</td>\n",
              "      <td>22.196</td>\n",
              "      <td>23.522</td>\n",
              "    </tr>\n",
              "    <tr>\n",
              "      <th>1</th>\n",
              "      <td>Albania</td>\n",
              "      <td>20.640</td>\n",
              "      <td>20.202</td>\n",
              "      <td>19.677</td>\n",
              "      <td>18.955</td>\n",
              "      <td>18.844</td>\n",
              "      <td>19.490</td>\n",
              "      <td>21.349</td>\n",
              "      <td>22.505</td>\n",
              "      <td>23.815</td>\n",
              "      <td>...</td>\n",
              "      <td>28.532</td>\n",
              "      <td>29.968</td>\n",
              "      <td>31.796</td>\n",
              "      <td>33.636</td>\n",
              "      <td>35.737</td>\n",
              "      <td>37.988</td>\n",
              "      <td>40.292</td>\n",
              "      <td>42.258</td>\n",
              "      <td>43.702</td>\n",
              "      <td>44.268</td>\n",
              "    </tr>\n",
              "    <tr>\n",
              "      <th>2</th>\n",
              "      <td>Algeria</td>\n",
              "      <td>19.927</td>\n",
              "      <td>19.307</td>\n",
              "      <td>18.170</td>\n",
              "      <td>16.742</td>\n",
              "      <td>15.808</td>\n",
              "      <td>16.165</td>\n",
              "      <td>16.910</td>\n",
              "      <td>17.318</td>\n",
              "      <td>18.183</td>\n",
              "      <td>...</td>\n",
              "      <td>24.015</td>\n",
              "      <td>26.247</td>\n",
              "      <td>28.311</td>\n",
              "      <td>30.333</td>\n",
              "      <td>32.300</td>\n",
              "      <td>34.187</td>\n",
              "      <td>35.547</td>\n",
              "      <td>36.877</td>\n",
              "      <td>38.145</td>\n",
              "      <td>39.416</td>\n",
              "    </tr>\n",
              "    <tr>\n",
              "      <th>3</th>\n",
              "      <td>Angola</td>\n",
              "      <td>19.401</td>\n",
              "      <td>18.882</td>\n",
              "      <td>18.244</td>\n",
              "      <td>17.481</td>\n",
              "      <td>16.987</td>\n",
              "      <td>16.828</td>\n",
              "      <td>16.652</td>\n",
              "      <td>16.449</td>\n",
              "      <td>16.198</td>\n",
              "      <td>...</td>\n",
              "      <td>16.718</td>\n",
              "      <td>17.385</td>\n",
              "      <td>17.989</td>\n",
              "      <td>18.658</td>\n",
              "      <td>19.510</td>\n",
              "      <td>20.435</td>\n",
              "      <td>21.623</td>\n",
              "      <td>22.891</td>\n",
              "      <td>24.197</td>\n",
              "      <td>25.561</td>\n",
              "    </tr>\n",
              "    <tr>\n",
              "      <th>4</th>\n",
              "      <td>Argentina</td>\n",
              "      <td>25.657</td>\n",
              "      <td>26.471</td>\n",
              "      <td>27.070</td>\n",
              "      <td>27.398</td>\n",
              "      <td>27.593</td>\n",
              "      <td>27.663</td>\n",
              "      <td>27.377</td>\n",
              "      <td>27.463</td>\n",
              "      <td>27.574</td>\n",
              "      <td>...</td>\n",
              "      <td>29.120</td>\n",
              "      <td>30.439</td>\n",
              "      <td>31.615</td>\n",
              "      <td>32.837</td>\n",
              "      <td>34.147</td>\n",
              "      <td>35.551</td>\n",
              "      <td>36.931</td>\n",
              "      <td>38.163</td>\n",
              "      <td>39.271</td>\n",
              "      <td>40.386</td>\n",
              "    </tr>\n",
              "  </tbody>\n",
              "</table>\n",
              "<p>5 rows × 22 columns</p>\n",
              "</div>\n",
              "      <button class=\"colab-df-convert\" onclick=\"convertToInteractive('df-f4ea73ef-592b-480f-aa58-1b2302356651')\"\n",
              "              title=\"Convert this dataframe to an interactive table.\"\n",
              "              style=\"display:none;\">\n",
              "        \n",
              "  <svg xmlns=\"http://www.w3.org/2000/svg\" height=\"24px\"viewBox=\"0 0 24 24\"\n",
              "       width=\"24px\">\n",
              "    <path d=\"M0 0h24v24H0V0z\" fill=\"none\"/>\n",
              "    <path d=\"M18.56 5.44l.94 2.06.94-2.06 2.06-.94-2.06-.94-.94-2.06-.94 2.06-2.06.94zm-11 1L8.5 8.5l.94-2.06 2.06-.94-2.06-.94L8.5 2.5l-.94 2.06-2.06.94zm10 10l.94 2.06.94-2.06 2.06-.94-2.06-.94-.94-2.06-.94 2.06-2.06.94z\"/><path d=\"M17.41 7.96l-1.37-1.37c-.4-.4-.92-.59-1.43-.59-.52 0-1.04.2-1.43.59L10.3 9.45l-7.72 7.72c-.78.78-.78 2.05 0 2.83L4 21.41c.39.39.9.59 1.41.59.51 0 1.02-.2 1.41-.59l7.78-7.78 2.81-2.81c.8-.78.8-2.07 0-2.86zM5.41 20L4 18.59l7.72-7.72 1.47 1.35L5.41 20z\"/>\n",
              "  </svg>\n",
              "      </button>\n",
              "      \n",
              "  <style>\n",
              "    .colab-df-container {\n",
              "      display:flex;\n",
              "      flex-wrap:wrap;\n",
              "      gap: 12px;\n",
              "    }\n",
              "\n",
              "    .colab-df-convert {\n",
              "      background-color: #E8F0FE;\n",
              "      border: none;\n",
              "      border-radius: 50%;\n",
              "      cursor: pointer;\n",
              "      display: none;\n",
              "      fill: #1967D2;\n",
              "      height: 32px;\n",
              "      padding: 0 0 0 0;\n",
              "      width: 32px;\n",
              "    }\n",
              "\n",
              "    .colab-df-convert:hover {\n",
              "      background-color: #E2EBFA;\n",
              "      box-shadow: 0px 1px 2px rgba(60, 64, 67, 0.3), 0px 1px 3px 1px rgba(60, 64, 67, 0.15);\n",
              "      fill: #174EA6;\n",
              "    }\n",
              "\n",
              "    [theme=dark] .colab-df-convert {\n",
              "      background-color: #3B4455;\n",
              "      fill: #D2E3FC;\n",
              "    }\n",
              "\n",
              "    [theme=dark] .colab-df-convert:hover {\n",
              "      background-color: #434B5C;\n",
              "      box-shadow: 0px 1px 3px 1px rgba(0, 0, 0, 0.15);\n",
              "      filter: drop-shadow(0px 1px 2px rgba(0, 0, 0, 0.3));\n",
              "      fill: #FFFFFF;\n",
              "    }\n",
              "  </style>\n",
              "\n",
              "      <script>\n",
              "        const buttonEl =\n",
              "          document.querySelector('#df-f4ea73ef-592b-480f-aa58-1b2302356651 button.colab-df-convert');\n",
              "        buttonEl.style.display =\n",
              "          google.colab.kernel.accessAllowed ? 'block' : 'none';\n",
              "\n",
              "        async function convertToInteractive(key) {\n",
              "          const element = document.querySelector('#df-f4ea73ef-592b-480f-aa58-1b2302356651');\n",
              "          const dataTable =\n",
              "            await google.colab.kernel.invokeFunction('convertToInteractive',\n",
              "                                                     [key], {});\n",
              "          if (!dataTable) return;\n",
              "\n",
              "          const docLinkHtml = 'Like what you see? Visit the ' +\n",
              "            '<a target=\"_blank\" href=https://colab.research.google.com/notebooks/data_table.ipynb>data table notebook</a>'\n",
              "            + ' to learn more about interactive tables.';\n",
              "          element.innerHTML = '';\n",
              "          dataTable['output_type'] = 'display_data';\n",
              "          await google.colab.output.renderOutput(dataTable, element);\n",
              "          const docLink = document.createElement('div');\n",
              "          docLink.innerHTML = docLinkHtml;\n",
              "          element.appendChild(docLink);\n",
              "        }\n",
              "      </script>\n",
              "    </div>\n",
              "  </div>\n",
              "  "
            ]
          },
          "metadata": {},
          "execution_count": 155
        }
      ]
    },
    {
      "cell_type": "markdown",
      "source": [
        "mendapatkan informasi mengenai tipe data dan Null"
      ],
      "metadata": {
        "id": "iqLVt3tTO6lp"
      }
    },
    {
      "cell_type": "code",
      "source": [
        "df.info() "
      ],
      "metadata": {
        "colab": {
          "base_uri": "https://localhost:8080/"
        },
        "id": "hSJJFY42YtE-",
        "outputId": "635c4c12-93ce-4b0d-c150-135188e46914"
      },
      "execution_count": null,
      "outputs": [
        {
          "output_type": "stream",
          "name": "stdout",
          "text": [
            "<class 'pandas.core.frame.DataFrame'>\n",
            "RangeIndex: 215 entries, 0 to 214\n",
            "Data columns (total 22 columns):\n",
            " #   Column   Non-Null Count  Dtype  \n",
            "---  ------   --------------  -----  \n",
            " 0   Country  215 non-null    object \n",
            " 1   1950     215 non-null    float64\n",
            " 2   1955     215 non-null    float64\n",
            " 3   1960     215 non-null    float64\n",
            " 4   1965     215 non-null    float64\n",
            " 5   1970     215 non-null    float64\n",
            " 6   1975     215 non-null    float64\n",
            " 7   1980     215 non-null    float64\n",
            " 8   1985     215 non-null    float64\n",
            " 9   1990     215 non-null    float64\n",
            " 10  1995     215 non-null    float64\n",
            " 11  2000     215 non-null    float64\n",
            " 12  2005     215 non-null    float64\n",
            " 13  2010     215 non-null    float64\n",
            " 14  2015     215 non-null    float64\n",
            " 15  2020     215 non-null    float64\n",
            " 16  2025     215 non-null    float64\n",
            " 17  2030     215 non-null    float64\n",
            " 18  2035     215 non-null    float64\n",
            " 19  2040     215 non-null    float64\n",
            " 20  2045     215 non-null    float64\n",
            " 21  2050     215 non-null    float64\n",
            "dtypes: float64(21), object(1)\n",
            "memory usage: 37.1+ KB\n"
          ]
        }
      ]
    },
    {
      "cell_type": "markdown",
      "source": [
        "mendapatkan gambaran statistik dari tabel"
      ],
      "metadata": {
        "id": "Uua4OBU2O-LB"
      }
    },
    {
      "cell_type": "code",
      "source": [
        "df.describe() "
      ],
      "metadata": {
        "colab": {
          "base_uri": "https://localhost:8080/",
          "height": 393
        },
        "id": "LaAfN_RCU4BV",
        "outputId": "e617529b-1acf-45a2-b873-1d55f2b085fd"
      },
      "execution_count": null,
      "outputs": [
        {
          "output_type": "execute_result",
          "data": {
            "text/plain": [
              "             1950        1955        1960        1965        1970        1975  \\\n",
              "count  215.000000  215.000000  215.000000  215.000000  215.000000  215.000000   \n",
              "mean    22.270884   21.986358   21.666721   21.200135   21.197586   21.432112   \n",
              "std      4.749072    4.887011    5.242305    5.506961    5.735014    5.819992   \n",
              "min     15.244000   14.850000   15.219000   14.679000   14.951000   14.873000   \n",
              "25%     18.991500   18.649500   18.149500   17.491500   17.300000   17.391000   \n",
              "50%     20.700000   20.107000   19.493000   18.955000   18.645000   18.681000   \n",
              "75%     24.643500   24.326000   23.076500   22.407500   23.202000   24.008000   \n",
              "max     35.725000   36.181000   36.711000   36.171000   35.389000   35.416000   \n",
              "\n",
              "             1980        1985        1990        1995  ...        2005  \\\n",
              "count  215.000000  215.000000  215.000000  215.000000  ...  215.000000   \n",
              "mean    22.067223   22.814819   23.612688   24.597856  ...   26.939000   \n",
              "std      6.054494    6.429809    6.843106    7.236508  ...    8.022804   \n",
              "min     14.706000   14.473000   14.338000   15.129000  ...   15.301000   \n",
              "25%     17.452500   17.590000   17.804500   18.237500  ...   19.478000   \n",
              "50%     19.261000   20.117000   21.141000   22.071000  ...   24.722000   \n",
              "75%     25.959500   27.475000   29.404000   31.103000  ...   35.382000   \n",
              "max     36.438000   38.128000   38.332000   39.607000  ...   43.107000   \n",
              "\n",
              "             2010        2015        2020        2025        2030        2035  \\\n",
              "count  215.000000  215.000000  215.000000  215.000000  215.000000  215.000000   \n",
              "mean    28.192433   29.514605   30.852400   32.252177   33.675284   35.064470   \n",
              "std      8.314226    8.555128    8.695896    8.790479    8.839748    8.823734   \n",
              "min     14.951000   14.844000   14.994000   15.719000   16.369000   17.031000   \n",
              "25%     20.686500   21.764000   22.942000   24.406500   25.764000   27.124000   \n",
              "50%     26.326000   28.337000   29.926000   31.775000   33.495000   34.967000   \n",
              "75%     36.615000   37.763500   39.331500   40.328000   41.536500   42.713500   \n",
              "max     44.747000   46.602000   48.584000   50.648000   52.241000   53.499000   \n",
              "\n",
              "             2040        2045        2050  \n",
              "count  215.000000  215.000000  215.000000  \n",
              "mean    36.317828   37.384135   38.337623  \n",
              "std      8.662021    8.305178    7.828686  \n",
              "min     17.844000   18.884000   20.159000  \n",
              "25%     28.578000   30.091500   31.591500  \n",
              "50%     36.319000   37.769000   39.124000  \n",
              "75%     43.334500   43.593500   43.928000  \n",
              "max     54.408000   54.894000   55.779000  \n",
              "\n",
              "[8 rows x 21 columns]"
            ],
            "text/html": [
              "\n",
              "  <div id=\"df-fcca0b34-5025-46f3-850e-2cff2656622d\">\n",
              "    <div class=\"colab-df-container\">\n",
              "      <div>\n",
              "<style scoped>\n",
              "    .dataframe tbody tr th:only-of-type {\n",
              "        vertical-align: middle;\n",
              "    }\n",
              "\n",
              "    .dataframe tbody tr th {\n",
              "        vertical-align: top;\n",
              "    }\n",
              "\n",
              "    .dataframe thead th {\n",
              "        text-align: right;\n",
              "    }\n",
              "</style>\n",
              "<table border=\"1\" class=\"dataframe\">\n",
              "  <thead>\n",
              "    <tr style=\"text-align: right;\">\n",
              "      <th></th>\n",
              "      <th>1950</th>\n",
              "      <th>1955</th>\n",
              "      <th>1960</th>\n",
              "      <th>1965</th>\n",
              "      <th>1970</th>\n",
              "      <th>1975</th>\n",
              "      <th>1980</th>\n",
              "      <th>1985</th>\n",
              "      <th>1990</th>\n",
              "      <th>1995</th>\n",
              "      <th>...</th>\n",
              "      <th>2005</th>\n",
              "      <th>2010</th>\n",
              "      <th>2015</th>\n",
              "      <th>2020</th>\n",
              "      <th>2025</th>\n",
              "      <th>2030</th>\n",
              "      <th>2035</th>\n",
              "      <th>2040</th>\n",
              "      <th>2045</th>\n",
              "      <th>2050</th>\n",
              "    </tr>\n",
              "  </thead>\n",
              "  <tbody>\n",
              "    <tr>\n",
              "      <th>count</th>\n",
              "      <td>215.000000</td>\n",
              "      <td>215.000000</td>\n",
              "      <td>215.000000</td>\n",
              "      <td>215.000000</td>\n",
              "      <td>215.000000</td>\n",
              "      <td>215.000000</td>\n",
              "      <td>215.000000</td>\n",
              "      <td>215.000000</td>\n",
              "      <td>215.000000</td>\n",
              "      <td>215.000000</td>\n",
              "      <td>...</td>\n",
              "      <td>215.000000</td>\n",
              "      <td>215.000000</td>\n",
              "      <td>215.000000</td>\n",
              "      <td>215.000000</td>\n",
              "      <td>215.000000</td>\n",
              "      <td>215.000000</td>\n",
              "      <td>215.000000</td>\n",
              "      <td>215.000000</td>\n",
              "      <td>215.000000</td>\n",
              "      <td>215.000000</td>\n",
              "    </tr>\n",
              "    <tr>\n",
              "      <th>mean</th>\n",
              "      <td>22.270884</td>\n",
              "      <td>21.986358</td>\n",
              "      <td>21.666721</td>\n",
              "      <td>21.200135</td>\n",
              "      <td>21.197586</td>\n",
              "      <td>21.432112</td>\n",
              "      <td>22.067223</td>\n",
              "      <td>22.814819</td>\n",
              "      <td>23.612688</td>\n",
              "      <td>24.597856</td>\n",
              "      <td>...</td>\n",
              "      <td>26.939000</td>\n",
              "      <td>28.192433</td>\n",
              "      <td>29.514605</td>\n",
              "      <td>30.852400</td>\n",
              "      <td>32.252177</td>\n",
              "      <td>33.675284</td>\n",
              "      <td>35.064470</td>\n",
              "      <td>36.317828</td>\n",
              "      <td>37.384135</td>\n",
              "      <td>38.337623</td>\n",
              "    </tr>\n",
              "    <tr>\n",
              "      <th>std</th>\n",
              "      <td>4.749072</td>\n",
              "      <td>4.887011</td>\n",
              "      <td>5.242305</td>\n",
              "      <td>5.506961</td>\n",
              "      <td>5.735014</td>\n",
              "      <td>5.819992</td>\n",
              "      <td>6.054494</td>\n",
              "      <td>6.429809</td>\n",
              "      <td>6.843106</td>\n",
              "      <td>7.236508</td>\n",
              "      <td>...</td>\n",
              "      <td>8.022804</td>\n",
              "      <td>8.314226</td>\n",
              "      <td>8.555128</td>\n",
              "      <td>8.695896</td>\n",
              "      <td>8.790479</td>\n",
              "      <td>8.839748</td>\n",
              "      <td>8.823734</td>\n",
              "      <td>8.662021</td>\n",
              "      <td>8.305178</td>\n",
              "      <td>7.828686</td>\n",
              "    </tr>\n",
              "    <tr>\n",
              "      <th>min</th>\n",
              "      <td>15.244000</td>\n",
              "      <td>14.850000</td>\n",
              "      <td>15.219000</td>\n",
              "      <td>14.679000</td>\n",
              "      <td>14.951000</td>\n",
              "      <td>14.873000</td>\n",
              "      <td>14.706000</td>\n",
              "      <td>14.473000</td>\n",
              "      <td>14.338000</td>\n",
              "      <td>15.129000</td>\n",
              "      <td>...</td>\n",
              "      <td>15.301000</td>\n",
              "      <td>14.951000</td>\n",
              "      <td>14.844000</td>\n",
              "      <td>14.994000</td>\n",
              "      <td>15.719000</td>\n",
              "      <td>16.369000</td>\n",
              "      <td>17.031000</td>\n",
              "      <td>17.844000</td>\n",
              "      <td>18.884000</td>\n",
              "      <td>20.159000</td>\n",
              "    </tr>\n",
              "    <tr>\n",
              "      <th>25%</th>\n",
              "      <td>18.991500</td>\n",
              "      <td>18.649500</td>\n",
              "      <td>18.149500</td>\n",
              "      <td>17.491500</td>\n",
              "      <td>17.300000</td>\n",
              "      <td>17.391000</td>\n",
              "      <td>17.452500</td>\n",
              "      <td>17.590000</td>\n",
              "      <td>17.804500</td>\n",
              "      <td>18.237500</td>\n",
              "      <td>...</td>\n",
              "      <td>19.478000</td>\n",
              "      <td>20.686500</td>\n",
              "      <td>21.764000</td>\n",
              "      <td>22.942000</td>\n",
              "      <td>24.406500</td>\n",
              "      <td>25.764000</td>\n",
              "      <td>27.124000</td>\n",
              "      <td>28.578000</td>\n",
              "      <td>30.091500</td>\n",
              "      <td>31.591500</td>\n",
              "    </tr>\n",
              "    <tr>\n",
              "      <th>50%</th>\n",
              "      <td>20.700000</td>\n",
              "      <td>20.107000</td>\n",
              "      <td>19.493000</td>\n",
              "      <td>18.955000</td>\n",
              "      <td>18.645000</td>\n",
              "      <td>18.681000</td>\n",
              "      <td>19.261000</td>\n",
              "      <td>20.117000</td>\n",
              "      <td>21.141000</td>\n",
              "      <td>22.071000</td>\n",
              "      <td>...</td>\n",
              "      <td>24.722000</td>\n",
              "      <td>26.326000</td>\n",
              "      <td>28.337000</td>\n",
              "      <td>29.926000</td>\n",
              "      <td>31.775000</td>\n",
              "      <td>33.495000</td>\n",
              "      <td>34.967000</td>\n",
              "      <td>36.319000</td>\n",
              "      <td>37.769000</td>\n",
              "      <td>39.124000</td>\n",
              "    </tr>\n",
              "    <tr>\n",
              "      <th>75%</th>\n",
              "      <td>24.643500</td>\n",
              "      <td>24.326000</td>\n",
              "      <td>23.076500</td>\n",
              "      <td>22.407500</td>\n",
              "      <td>23.202000</td>\n",
              "      <td>24.008000</td>\n",
              "      <td>25.959500</td>\n",
              "      <td>27.475000</td>\n",
              "      <td>29.404000</td>\n",
              "      <td>31.103000</td>\n",
              "      <td>...</td>\n",
              "      <td>35.382000</td>\n",
              "      <td>36.615000</td>\n",
              "      <td>37.763500</td>\n",
              "      <td>39.331500</td>\n",
              "      <td>40.328000</td>\n",
              "      <td>41.536500</td>\n",
              "      <td>42.713500</td>\n",
              "      <td>43.334500</td>\n",
              "      <td>43.593500</td>\n",
              "      <td>43.928000</td>\n",
              "    </tr>\n",
              "    <tr>\n",
              "      <th>max</th>\n",
              "      <td>35.725000</td>\n",
              "      <td>36.181000</td>\n",
              "      <td>36.711000</td>\n",
              "      <td>36.171000</td>\n",
              "      <td>35.389000</td>\n",
              "      <td>35.416000</td>\n",
              "      <td>36.438000</td>\n",
              "      <td>38.128000</td>\n",
              "      <td>38.332000</td>\n",
              "      <td>39.607000</td>\n",
              "      <td>...</td>\n",
              "      <td>43.107000</td>\n",
              "      <td>44.747000</td>\n",
              "      <td>46.602000</td>\n",
              "      <td>48.584000</td>\n",
              "      <td>50.648000</td>\n",
              "      <td>52.241000</td>\n",
              "      <td>53.499000</td>\n",
              "      <td>54.408000</td>\n",
              "      <td>54.894000</td>\n",
              "      <td>55.779000</td>\n",
              "    </tr>\n",
              "  </tbody>\n",
              "</table>\n",
              "<p>8 rows × 21 columns</p>\n",
              "</div>\n",
              "      <button class=\"colab-df-convert\" onclick=\"convertToInteractive('df-fcca0b34-5025-46f3-850e-2cff2656622d')\"\n",
              "              title=\"Convert this dataframe to an interactive table.\"\n",
              "              style=\"display:none;\">\n",
              "        \n",
              "  <svg xmlns=\"http://www.w3.org/2000/svg\" height=\"24px\"viewBox=\"0 0 24 24\"\n",
              "       width=\"24px\">\n",
              "    <path d=\"M0 0h24v24H0V0z\" fill=\"none\"/>\n",
              "    <path d=\"M18.56 5.44l.94 2.06.94-2.06 2.06-.94-2.06-.94-.94-2.06-.94 2.06-2.06.94zm-11 1L8.5 8.5l.94-2.06 2.06-.94-2.06-.94L8.5 2.5l-.94 2.06-2.06.94zm10 10l.94 2.06.94-2.06 2.06-.94-2.06-.94-.94-2.06-.94 2.06-2.06.94z\"/><path d=\"M17.41 7.96l-1.37-1.37c-.4-.4-.92-.59-1.43-.59-.52 0-1.04.2-1.43.59L10.3 9.45l-7.72 7.72c-.78.78-.78 2.05 0 2.83L4 21.41c.39.39.9.59 1.41.59.51 0 1.02-.2 1.41-.59l7.78-7.78 2.81-2.81c.8-.78.8-2.07 0-2.86zM5.41 20L4 18.59l7.72-7.72 1.47 1.35L5.41 20z\"/>\n",
              "  </svg>\n",
              "      </button>\n",
              "      \n",
              "  <style>\n",
              "    .colab-df-container {\n",
              "      display:flex;\n",
              "      flex-wrap:wrap;\n",
              "      gap: 12px;\n",
              "    }\n",
              "\n",
              "    .colab-df-convert {\n",
              "      background-color: #E8F0FE;\n",
              "      border: none;\n",
              "      border-radius: 50%;\n",
              "      cursor: pointer;\n",
              "      display: none;\n",
              "      fill: #1967D2;\n",
              "      height: 32px;\n",
              "      padding: 0 0 0 0;\n",
              "      width: 32px;\n",
              "    }\n",
              "\n",
              "    .colab-df-convert:hover {\n",
              "      background-color: #E2EBFA;\n",
              "      box-shadow: 0px 1px 2px rgba(60, 64, 67, 0.3), 0px 1px 3px 1px rgba(60, 64, 67, 0.15);\n",
              "      fill: #174EA6;\n",
              "    }\n",
              "\n",
              "    [theme=dark] .colab-df-convert {\n",
              "      background-color: #3B4455;\n",
              "      fill: #D2E3FC;\n",
              "    }\n",
              "\n",
              "    [theme=dark] .colab-df-convert:hover {\n",
              "      background-color: #434B5C;\n",
              "      box-shadow: 0px 1px 3px 1px rgba(0, 0, 0, 0.15);\n",
              "      filter: drop-shadow(0px 1px 2px rgba(0, 0, 0, 0.3));\n",
              "      fill: #FFFFFF;\n",
              "    }\n",
              "  </style>\n",
              "\n",
              "      <script>\n",
              "        const buttonEl =\n",
              "          document.querySelector('#df-fcca0b34-5025-46f3-850e-2cff2656622d button.colab-df-convert');\n",
              "        buttonEl.style.display =\n",
              "          google.colab.kernel.accessAllowed ? 'block' : 'none';\n",
              "\n",
              "        async function convertToInteractive(key) {\n",
              "          const element = document.querySelector('#df-fcca0b34-5025-46f3-850e-2cff2656622d');\n",
              "          const dataTable =\n",
              "            await google.colab.kernel.invokeFunction('convertToInteractive',\n",
              "                                                     [key], {});\n",
              "          if (!dataTable) return;\n",
              "\n",
              "          const docLinkHtml = 'Like what you see? Visit the ' +\n",
              "            '<a target=\"_blank\" href=https://colab.research.google.com/notebooks/data_table.ipynb>data table notebook</a>'\n",
              "            + ' to learn more about interactive tables.';\n",
              "          element.innerHTML = '';\n",
              "          dataTable['output_type'] = 'display_data';\n",
              "          await google.colab.output.renderOutput(dataTable, element);\n",
              "          const docLink = document.createElement('div');\n",
              "          docLink.innerHTML = docLinkHtml;\n",
              "          element.appendChild(docLink);\n",
              "        }\n",
              "      </script>\n",
              "    </div>\n",
              "  </div>\n",
              "  "
            ]
          },
          "metadata": {},
          "execution_count": 157
        }
      ]
    },
    {
      "cell_type": "markdown",
      "source": [
        "### Pertanyaan 1: Berapa rata-rata usia penduduk dunia setiap 5 tahunnya hingga 2050?"
      ],
      "metadata": {
        "id": "RS8Iqr_2Zz7Y"
      }
    },
    {
      "cell_type": "markdown",
      "source": [
        "transpose data menjadi tabel dengan kolom \"Country\", \"Years\", dan \"Average Age\"\n"
      ],
      "metadata": {
        "id": "fdyr-WyOPDLH"
      }
    },
    {
      "cell_type": "code",
      "source": [
        "transposing_data = df.melt(id_vars=['Country'], var_name=\"Years\", value_name=\"Average Age\")\n",
        "print(transposing_data) # mencetak tabel"
      ],
      "metadata": {
        "colab": {
          "base_uri": "https://localhost:8080/"
        },
        "id": "hMoylzaU7yuP",
        "outputId": "00f784d7-634d-48b2-9f27-1097e3054859"
      },
      "execution_count": null,
      "outputs": [
        {
          "output_type": "stream",
          "name": "stdout",
          "text": [
            "             Country Years  Average Age\n",
            "0        Afghanistan  1950       18.597\n",
            "1            Albania  1950       20.640\n",
            "2            Algeria  1950       19.927\n",
            "3             Angola  1950       19.401\n",
            "4          Argentina  1950       25.657\n",
            "...              ...   ...          ...\n",
            "4510  Western Europe  2050       47.557\n",
            "4511  Western Sahara  2050       37.585\n",
            "4512     Yemen, Rep.  2050       29.108\n",
            "4513          Zambia  2050       24.676\n",
            "4514        Zimbabwe  2050       30.655\n",
            "\n",
            "[4515 rows x 3 columns]\n"
          ]
        }
      ]
    },
    {
      "cell_type": "markdown",
      "source": [
        "mendapatkan rata-rata umur dari setiap 5 tahunnya"
      ],
      "metadata": {
        "id": "h6RETNPbPNBi"
      }
    },
    {
      "cell_type": "code",
      "source": [
        "average_age_per_five_years = transposing_data.groupby('Years').mean() \n",
        "average_age_per_five_years.head() # mencetak 5 data pertama"
      ],
      "metadata": {
        "colab": {
          "base_uri": "https://localhost:8080/",
          "height": 215
        },
        "id": "0g49JlOkLPfj",
        "outputId": "ef986092-b42d-44c9-945f-34ad77f59bf7"
      },
      "execution_count": null,
      "outputs": [
        {
          "output_type": "execute_result",
          "data": {
            "text/plain": [
              "       Average Age\n",
              "Years             \n",
              "1950     22.270884\n",
              "1955     21.986358\n",
              "1960     21.666721\n",
              "1965     21.200135\n",
              "1970     21.197586"
            ],
            "text/html": [
              "\n",
              "  <div id=\"df-ed8c735d-887f-459c-9053-47b85108fc1b\">\n",
              "    <div class=\"colab-df-container\">\n",
              "      <div>\n",
              "<style scoped>\n",
              "    .dataframe tbody tr th:only-of-type {\n",
              "        vertical-align: middle;\n",
              "    }\n",
              "\n",
              "    .dataframe tbody tr th {\n",
              "        vertical-align: top;\n",
              "    }\n",
              "\n",
              "    .dataframe thead th {\n",
              "        text-align: right;\n",
              "    }\n",
              "</style>\n",
              "<table border=\"1\" class=\"dataframe\">\n",
              "  <thead>\n",
              "    <tr style=\"text-align: right;\">\n",
              "      <th></th>\n",
              "      <th>Average Age</th>\n",
              "    </tr>\n",
              "    <tr>\n",
              "      <th>Years</th>\n",
              "      <th></th>\n",
              "    </tr>\n",
              "  </thead>\n",
              "  <tbody>\n",
              "    <tr>\n",
              "      <th>1950</th>\n",
              "      <td>22.270884</td>\n",
              "    </tr>\n",
              "    <tr>\n",
              "      <th>1955</th>\n",
              "      <td>21.986358</td>\n",
              "    </tr>\n",
              "    <tr>\n",
              "      <th>1960</th>\n",
              "      <td>21.666721</td>\n",
              "    </tr>\n",
              "    <tr>\n",
              "      <th>1965</th>\n",
              "      <td>21.200135</td>\n",
              "    </tr>\n",
              "    <tr>\n",
              "      <th>1970</th>\n",
              "      <td>21.197586</td>\n",
              "    </tr>\n",
              "  </tbody>\n",
              "</table>\n",
              "</div>\n",
              "      <button class=\"colab-df-convert\" onclick=\"convertToInteractive('df-ed8c735d-887f-459c-9053-47b85108fc1b')\"\n",
              "              title=\"Convert this dataframe to an interactive table.\"\n",
              "              style=\"display:none;\">\n",
              "        \n",
              "  <svg xmlns=\"http://www.w3.org/2000/svg\" height=\"24px\"viewBox=\"0 0 24 24\"\n",
              "       width=\"24px\">\n",
              "    <path d=\"M0 0h24v24H0V0z\" fill=\"none\"/>\n",
              "    <path d=\"M18.56 5.44l.94 2.06.94-2.06 2.06-.94-2.06-.94-.94-2.06-.94 2.06-2.06.94zm-11 1L8.5 8.5l.94-2.06 2.06-.94-2.06-.94L8.5 2.5l-.94 2.06-2.06.94zm10 10l.94 2.06.94-2.06 2.06-.94-2.06-.94-.94-2.06-.94 2.06-2.06.94z\"/><path d=\"M17.41 7.96l-1.37-1.37c-.4-.4-.92-.59-1.43-.59-.52 0-1.04.2-1.43.59L10.3 9.45l-7.72 7.72c-.78.78-.78 2.05 0 2.83L4 21.41c.39.39.9.59 1.41.59.51 0 1.02-.2 1.41-.59l7.78-7.78 2.81-2.81c.8-.78.8-2.07 0-2.86zM5.41 20L4 18.59l7.72-7.72 1.47 1.35L5.41 20z\"/>\n",
              "  </svg>\n",
              "      </button>\n",
              "      \n",
              "  <style>\n",
              "    .colab-df-container {\n",
              "      display:flex;\n",
              "      flex-wrap:wrap;\n",
              "      gap: 12px;\n",
              "    }\n",
              "\n",
              "    .colab-df-convert {\n",
              "      background-color: #E8F0FE;\n",
              "      border: none;\n",
              "      border-radius: 50%;\n",
              "      cursor: pointer;\n",
              "      display: none;\n",
              "      fill: #1967D2;\n",
              "      height: 32px;\n",
              "      padding: 0 0 0 0;\n",
              "      width: 32px;\n",
              "    }\n",
              "\n",
              "    .colab-df-convert:hover {\n",
              "      background-color: #E2EBFA;\n",
              "      box-shadow: 0px 1px 2px rgba(60, 64, 67, 0.3), 0px 1px 3px 1px rgba(60, 64, 67, 0.15);\n",
              "      fill: #174EA6;\n",
              "    }\n",
              "\n",
              "    [theme=dark] .colab-df-convert {\n",
              "      background-color: #3B4455;\n",
              "      fill: #D2E3FC;\n",
              "    }\n",
              "\n",
              "    [theme=dark] .colab-df-convert:hover {\n",
              "      background-color: #434B5C;\n",
              "      box-shadow: 0px 1px 3px 1px rgba(0, 0, 0, 0.15);\n",
              "      filter: drop-shadow(0px 1px 2px rgba(0, 0, 0, 0.3));\n",
              "      fill: #FFFFFF;\n",
              "    }\n",
              "  </style>\n",
              "\n",
              "      <script>\n",
              "        const buttonEl =\n",
              "          document.querySelector('#df-ed8c735d-887f-459c-9053-47b85108fc1b button.colab-df-convert');\n",
              "        buttonEl.style.display =\n",
              "          google.colab.kernel.accessAllowed ? 'block' : 'none';\n",
              "\n",
              "        async function convertToInteractive(key) {\n",
              "          const element = document.querySelector('#df-ed8c735d-887f-459c-9053-47b85108fc1b');\n",
              "          const dataTable =\n",
              "            await google.colab.kernel.invokeFunction('convertToInteractive',\n",
              "                                                     [key], {});\n",
              "          if (!dataTable) return;\n",
              "\n",
              "          const docLinkHtml = 'Like what you see? Visit the ' +\n",
              "            '<a target=\"_blank\" href=https://colab.research.google.com/notebooks/data_table.ipynb>data table notebook</a>'\n",
              "            + ' to learn more about interactive tables.';\n",
              "          element.innerHTML = '';\n",
              "          dataTable['output_type'] = 'display_data';\n",
              "          await google.colab.output.renderOutput(dataTable, element);\n",
              "          const docLink = document.createElement('div');\n",
              "          docLink.innerHTML = docLinkHtml;\n",
              "          element.appendChild(docLink);\n",
              "        }\n",
              "      </script>\n",
              "    </div>\n",
              "  </div>\n",
              "  "
            ]
          },
          "metadata": {},
          "execution_count": 159
        }
      ]
    },
    {
      "cell_type": "markdown",
      "source": [
        "mengecek sebaran data rata-rata umur setiap 5 tahunnya"
      ],
      "metadata": {
        "id": "6tcS7b0JPRL6"
      }
    },
    {
      "cell_type": "code",
      "source": [
        "df.hist(figsize=( 8,8)) "
      ],
      "metadata": {
        "colab": {
          "base_uri": "https://localhost:8080/",
          "height": 978
        },
        "id": "C5fXhy7Itx8o",
        "outputId": "f840cc38-76f5-435e-8a30-a96c61e37af9"
      },
      "execution_count": null,
      "outputs": [
        {
          "output_type": "execute_result",
          "data": {
            "text/plain": [
              "array([[<matplotlib.axes._subplots.AxesSubplot object at 0x7f551300bdd0>,\n",
              "        <matplotlib.axes._subplots.AxesSubplot object at 0x7f5513021a10>,\n",
              "        <matplotlib.axes._subplots.AxesSubplot object at 0x7f5512fd3e50>,\n",
              "        <matplotlib.axes._subplots.AxesSubplot object at 0x7f5512f97390>,\n",
              "        <matplotlib.axes._subplots.AxesSubplot object at 0x7f5512f4a350>],\n",
              "       [<matplotlib.axes._subplots.AxesSubplot object at 0x7f5512f02750>,\n",
              "        <matplotlib.axes._subplots.AxesSubplot object at 0x7f5512eb7cd0>,\n",
              "        <matplotlib.axes._subplots.AxesSubplot object at 0x7f5512e7b150>,\n",
              "        <matplotlib.axes._subplots.AxesSubplot object at 0x7f5512e7b190>,\n",
              "        <matplotlib.axes._subplots.AxesSubplot object at 0x7f5512e33790>],\n",
              "       [<matplotlib.axes._subplots.AxesSubplot object at 0x7f5512e2c0d0>,\n",
              "        <matplotlib.axes._subplots.AxesSubplot object at 0x7f5512de25d0>,\n",
              "        <matplotlib.axes._subplots.AxesSubplot object at 0x7f5512d98a10>,\n",
              "        <matplotlib.axes._subplots.AxesSubplot object at 0x7f5512d4ef10>,\n",
              "        <matplotlib.axes._subplots.AxesSubplot object at 0x7f5512d11450>],\n",
              "       [<matplotlib.axes._subplots.AxesSubplot object at 0x7f5512cc8950>,\n",
              "        <matplotlib.axes._subplots.AxesSubplot object at 0x7f5512c7fe50>,\n",
              "        <matplotlib.axes._subplots.AxesSubplot object at 0x7f5512c43390>,\n",
              "        <matplotlib.axes._subplots.AxesSubplot object at 0x7f5512bf8890>,\n",
              "        <matplotlib.axes._subplots.AxesSubplot object at 0x7f5512c2ed90>],\n",
              "       [<matplotlib.axes._subplots.AxesSubplot object at 0x7f5512b722d0>,\n",
              "        <matplotlib.axes._subplots.AxesSubplot object at 0x7f5512ba87d0>,\n",
              "        <matplotlib.axes._subplots.AxesSubplot object at 0x7f5512b61cd0>,\n",
              "        <matplotlib.axes._subplots.AxesSubplot object at 0x7f5512b23210>,\n",
              "        <matplotlib.axes._subplots.AxesSubplot object at 0x7f5512ada710>]],\n",
              "      dtype=object)"
            ]
          },
          "metadata": {},
          "execution_count": 160
        },
        {
          "output_type": "display_data",
          "data": {
            "text/plain": [
              "<Figure size 576x576 with 25 Axes>"
            ],
            "image/png": "[encoded data removed]"
          },
          "metadata": {
            "needs_background": "light"
          }
        }
      ]
    },
    {
      "cell_type": "markdown",
      "source": [
        "### Pertanyaan 2: Apakah terjadi peningkatan rata-rata umur penduduk dunia setiap 5 tahunnya? Lalu bagaimana dengan trendnya?"
      ],
      "metadata": {
        "id": "cFQvun3ham7Y"
      }
    },
    {
      "cell_type": "markdown",
      "source": [
        "Mendapatkan visualisasi data dari rata-rata umur keseluruhan negara dunia setiap 5 tahunnya"
      ],
      "metadata": {
        "id": "ixxRfPesPU3B"
      }
    },
    {
      "cell_type": "code",
      "source": [
        "years = [int(year) for year in transposing_data['Years'].unique()] # membuat list yang berisi kumpulan umur yang telah unique\n",
        "y = average_age_per_five_years['Average Age']\n",
        "a,b,r,p, std_err = sts.linregress(years,y) # mengekstrak nilai a,b,r,p, std_error dari fungsi regresi linier\n",
        "\n",
        "new_y = [] # membuat list untuk menghitung y dari regresi linier\n",
        "for year in years:\n",
        "  calculate = a * year + b\n",
        "  new_y.append(calculate)\n",
        "\n",
        "\n",
        "plt.scatter(years, y) # mendapatkan nilai rata-rata dari rata-rata umur setiap 5 tahunnya\n",
        "plt.plot(years, new_y) # plotting rata-rata umur berdasarkan regresi linier\n",
        "plt.xticks(years, rotation='vertical', size=8) # mengatur tulisan yang ada di sumbu x sehingga tulisannya menjadi vertical dengan font size 8\n",
        "plt.ylabel('Average Age') # membuat label pada sumbu y\n",
        "plt.xlabel('Year') # membuat label pada sumbu x\n",
        "plt.show() # menampilkan diagram\n"
      ],
      "metadata": {
        "colab": {
          "base_uri": "https://localhost:8080/",
          "height": 290
        },
        "id": "qJ_0A7CLDfim",
        "outputId": "f84c054b-b659-47c0-dbd2-f4ebba458b6d"
      },
      "execution_count": null,
      "outputs": [
        {
          "output_type": "display_data",
          "data": {
            "text/plain": [
              "<Figure size 432x288 with 1 Axes>"
            ],
            "image/png": "[encoded data removed]"
          },
          "metadata": {
            "needs_background": "light"
          }
        }
      ]
    },
    {
      "cell_type": "markdown",
      "source": [
        "Memperoleh nilai koefisien determinasi"
      ],
      "metadata": {
        "id": "YxQL4AoDmR9K"
      }
    },
    {
      "cell_type": "code",
      "source": [
        "print(r) # mencetak nilai koefisien determinasi"
      ],
      "metadata": {
        "colab": {
          "base_uri": "https://localhost:8080/"
        },
        "id": "ZNaoaXwYzJHt",
        "outputId": "05b9364e-a4ea-431a-f12a-cc9c53d1d287"
      },
      "execution_count": null,
      "outputs": [
        {
          "output_type": "stream",
          "name": "stdout",
          "text": [
            "0.9571279858163526\n"
          ]
        }
      ]
    },
    {
      "cell_type": "markdown",
      "source": [
        "**Berdasarkan visualisasi data tersebut dapat disimpulkan bahwa setiap 5 tahunnya hampir terjadi peningkatan rata-rata umur, kecuali pada tahun 1955, 1960, 1965, 1970.** \n",
        "\n",
        "**Namun secara umum tren dari rata-rata umur penduduk dunia adalah meningkat dengan koefisien determinasi sebesar 0.95 (korelasi kuat peningkatan waktu untuk memperkirakan rata-rata umur). Artinya secara statistik seiring berjalannya waktu maka rata-rata umur akan semakin meningkat**\n",
        "\n",
        "**Dengan nilai koefisien determinasi yang sebesar ini, kita juga dapat meramal rata-rata umur dengan baik karena nilai koefisien determinasinya sudah hampir mendekati 1**\n",
        "\n",
        "*catatan: Jika nilai koefisien determinasi mendekati 1, artinya variabel independen memberikan hampir semua informasi yang dibutuhkan untuk memprediksi variabel dependen. "
      ],
      "metadata": {
        "id": "kacQ7V9q2qrx"
      }
    },
    {
      "cell_type": "markdown",
      "source": [
        "### Pertanyaan 3: Apakah di tahun 2020 masih ada negara dengan rata-rata umur 20 tahun?"
      ],
      "metadata": {
        "id": "UxFWj5CGaYUI"
      }
    },
    {
      "cell_type": "markdown",
      "source": [
        "mencari data negara yang memiliki rata-rata umur di bawah 20 tahun pada tahun 2020"
      ],
      "metadata": {
        "id": "Zimwv_DnQ0_6"
      }
    },
    {
      "cell_type": "code",
      "source": [
        "transposing_data[(transposing_data['Years'] == \"2020\") & (transposing_data['Average Age'] < 20)] "
      ],
      "metadata": {
        "colab": {
          "base_uri": "https://localhost:8080/",
          "height": 926
        },
        "id": "k6L7PodXG5YY",
        "outputId": "3cf0f104-2a04-4e58-8813-95262dc69c93"
      },
      "execution_count": null,
      "outputs": [
        {
          "output_type": "execute_result",
          "data": {
            "text/plain": [
              "                 Country Years  Average Age\n",
              "3010         Afghanistan  2020       17.810\n",
              "3013              Angola  2020       18.658\n",
              "3028               Benin  2020       19.430\n",
              "3036        Burkina Faso  2020       17.317\n",
              "3045                Chad  2020       17.944\n",
              "3061    Congo, Dem. Rep.  2020       18.138\n",
              "3065      Eastern Africa  2020       19.149\n",
              "3074            Ethiopia  2020       19.793\n",
              "3090              Guinea  2020       19.584\n",
              "3091       Guinea-Bissau  2020       19.230\n",
              "3108               Kenya  2020       19.313\n",
              "3115             Liberia  2020       19.978\n",
              "3120              Malawi  2020       18.301\n",
              "3123                Mali  2020       18.455\n",
              "3133       Middle Africa  2020       18.855\n",
              "3137          Mozambique  2020       19.071\n",
              "3146               Niger  2020       14.994\n",
              "3151  West Bank and Gaza  2020       19.798\n",
              "3169              Rwanda  2020       19.143\n",
              "3175             Senegal  2020       19.637\n",
              "3177        Sierra Leone  2020       18.752\n",
              "3182             Somalia  2020       18.118\n",
              "3199         Timor-Leste  2020       18.212\n",
              "3206              Uganda  2020       16.567\n",
              "3210            Tanzania  2020       17.971\n",
              "3218      Western Africa  2020       19.749\n",
              "3222         Yemen, Rep.  2020       19.776\n",
              "3223              Zambia  2020       17.805"
            ],
            "text/html": [
              "\n",
              "  <div id=\"df-309d9e63-bd47-49ec-98da-4c16267f3222\">\n",
              "    <div class=\"colab-df-container\">\n",
              "      <div>\n",
              "<style scoped>\n",
              "    .dataframe tbody tr th:only-of-type {\n",
              "        vertical-align: middle;\n",
              "    }\n",
              "\n",
              "    .dataframe tbody tr th {\n",
              "        vertical-align: top;\n",
              "    }\n",
              "\n",
              "    .dataframe thead th {\n",
              "        text-align: right;\n",
              "    }\n",
              "</style>\n",
              "<table border=\"1\" class=\"dataframe\">\n",
              "  <thead>\n",
              "    <tr style=\"text-align: right;\">\n",
              "      <th></th>\n",
              "      <th>Country</th>\n",
              "      <th>Years</th>\n",
              "      <th>Average Age</th>\n",
              "    </tr>\n",
              "  </thead>\n",
              "  <tbody>\n",
              "    <tr>\n",
              "      <th>3010</th>\n",
              "      <td>Afghanistan</td>\n",
              "      <td>2020</td>\n",
              "      <td>17.810</td>\n",
              "    </tr>\n",
              "    <tr>\n",
              "      <th>3013</th>\n",
              "      <td>Angola</td>\n",
              "      <td>2020</td>\n",
              "      <td>18.658</td>\n",
              "    </tr>\n",
              "    <tr>\n",
              "      <th>3028</th>\n",
              "      <td>Benin</td>\n",
              "      <td>2020</td>\n",
              "      <td>19.430</td>\n",
              "    </tr>\n",
              "    <tr>\n",
              "      <th>3036</th>\n",
              "      <td>Burkina Faso</td>\n",
              "      <td>2020</td>\n",
              "      <td>17.317</td>\n",
              "    </tr>\n",
              "    <tr>\n",
              "      <th>3045</th>\n",
              "      <td>Chad</td>\n",
              "      <td>2020</td>\n",
              "      <td>17.944</td>\n",
              "    </tr>\n",
              "    <tr>\n",
              "      <th>3061</th>\n",
              "      <td>Congo, Dem. Rep.</td>\n",
              "      <td>2020</td>\n",
              "      <td>18.138</td>\n",
              "    </tr>\n",
              "    <tr>\n",
              "      <th>3065</th>\n",
              "      <td>Eastern Africa</td>\n",
              "      <td>2020</td>\n",
              "      <td>19.149</td>\n",
              "    </tr>\n",
              "    <tr>\n",
              "      <th>3074</th>\n",
              "      <td>Ethiopia</td>\n",
              "      <td>2020</td>\n",
              "      <td>19.793</td>\n",
              "    </tr>\n",
              "    <tr>\n",
              "      <th>3090</th>\n",
              "      <td>Guinea</td>\n",
              "      <td>2020</td>\n",
              "      <td>19.584</td>\n",
              "    </tr>\n",
              "    <tr>\n",
              "      <th>3091</th>\n",
              "      <td>Guinea-Bissau</td>\n",
              "      <td>2020</td>\n",
              "      <td>19.230</td>\n",
              "    </tr>\n",
              "    <tr>\n",
              "      <th>3108</th>\n",
              "      <td>Kenya</td>\n",
              "      <td>2020</td>\n",
              "      <td>19.313</td>\n",
              "    </tr>\n",
              "    <tr>\n",
              "      <th>3115</th>\n",
              "      <td>Liberia</td>\n",
              "      <td>2020</td>\n",
              "      <td>19.978</td>\n",
              "    </tr>\n",
              "    <tr>\n",
              "      <th>3120</th>\n",
              "      <td>Malawi</td>\n",
              "      <td>2020</td>\n",
              "      <td>18.301</td>\n",
              "    </tr>\n",
              "    <tr>\n",
              "      <th>3123</th>\n",
              "      <td>Mali</td>\n",
              "      <td>2020</td>\n",
              "      <td>18.455</td>\n",
              "    </tr>\n",
              "    <tr>\n",
              "      <th>3133</th>\n",
              "      <td>Middle Africa</td>\n",
              "      <td>2020</td>\n",
              "      <td>18.855</td>\n",
              "    </tr>\n",
              "    <tr>\n",
              "      <th>3137</th>\n",
              "      <td>Mozambique</td>\n",
              "      <td>2020</td>\n",
              "      <td>19.071</td>\n",
              "    </tr>\n",
              "    <tr>\n",
              "      <th>3146</th>\n",
              "      <td>Niger</td>\n",
              "      <td>2020</td>\n",
              "      <td>14.994</td>\n",
              "    </tr>\n",
              "    <tr>\n",
              "      <th>3151</th>\n",
              "      <td>West Bank and Gaza</td>\n",
              "      <td>2020</td>\n",
              "      <td>19.798</td>\n",
              "    </tr>\n",
              "    <tr>\n",
              "      <th>3169</th>\n",
              "      <td>Rwanda</td>\n",
              "      <td>2020</td>\n",
              "      <td>19.143</td>\n",
              "    </tr>\n",
              "    <tr>\n",
              "      <th>3175</th>\n",
              "      <td>Senegal</td>\n",
              "      <td>2020</td>\n",
              "      <td>19.637</td>\n",
              "    </tr>\n",
              "    <tr>\n",
              "      <th>3177</th>\n",
              "      <td>Sierra Leone</td>\n",
              "      <td>2020</td>\n",
              "      <td>18.752</td>\n",
              "    </tr>\n",
              "    <tr>\n",
              "      <th>3182</th>\n",
              "      <td>Somalia</td>\n",
              "      <td>2020</td>\n",
              "      <td>18.118</td>\n",
              "    </tr>\n",
              "    <tr>\n",
              "      <th>3199</th>\n",
              "      <td>Timor-Leste</td>\n",
              "      <td>2020</td>\n",
              "      <td>18.212</td>\n",
              "    </tr>\n",
              "    <tr>\n",
              "      <th>3206</th>\n",
              "      <td>Uganda</td>\n",
              "      <td>2020</td>\n",
              "      <td>16.567</td>\n",
              "    </tr>\n",
              "    <tr>\n",
              "      <th>3210</th>\n",
              "      <td>Tanzania</td>\n",
              "      <td>2020</td>\n",
              "      <td>17.971</td>\n",
              "    </tr>\n",
              "    <tr>\n",
              "      <th>3218</th>\n",
              "      <td>Western Africa</td>\n",
              "      <td>2020</td>\n",
              "      <td>19.749</td>\n",
              "    </tr>\n",
              "    <tr>\n",
              "      <th>3222</th>\n",
              "      <td>Yemen, Rep.</td>\n",
              "      <td>2020</td>\n",
              "      <td>19.776</td>\n",
              "    </tr>\n",
              "    <tr>\n",
              "      <th>3223</th>\n",
              "      <td>Zambia</td>\n",
              "      <td>2020</td>\n",
              "      <td>17.805</td>\n",
              "    </tr>\n",
              "  </tbody>\n",
              "</table>\n",
              "</div>\n",
              "      <button class=\"colab-df-convert\" onclick=\"convertToInteractive('df-309d9e63-bd47-49ec-98da-4c16267f3222')\"\n",
              "              title=\"Convert this dataframe to an interactive table.\"\n",
              "              style=\"display:none;\">\n",
              "        \n",
              "  <svg xmlns=\"http://www.w3.org/2000/svg\" height=\"24px\"viewBox=\"0 0 24 24\"\n",
              "       width=\"24px\">\n",
              "    <path d=\"M0 0h24v24H0V0z\" fill=\"none\"/>\n",
              "    <path d=\"M18.56 5.44l.94 2.06.94-2.06 2.06-.94-2.06-.94-.94-2.06-.94 2.06-2.06.94zm-11 1L8.5 8.5l.94-2.06 2.06-.94-2.06-.94L8.5 2.5l-.94 2.06-2.06.94zm10 10l.94 2.06.94-2.06 2.06-.94-2.06-.94-.94-2.06-.94 2.06-2.06.94z\"/><path d=\"M17.41 7.96l-1.37-1.37c-.4-.4-.92-.59-1.43-.59-.52 0-1.04.2-1.43.59L10.3 9.45l-7.72 7.72c-.78.78-.78 2.05 0 2.83L4 21.41c.39.39.9.59 1.41.59.51 0 1.02-.2 1.41-.59l7.78-7.78 2.81-2.81c.8-.78.8-2.07 0-2.86zM5.41 20L4 18.59l7.72-7.72 1.47 1.35L5.41 20z\"/>\n",
              "  </svg>\n",
              "      </button>\n",
              "      \n",
              "  <style>\n",
              "    .colab-df-container {\n",
              "      display:flex;\n",
              "      flex-wrap:wrap;\n",
              "      gap: 12px;\n",
              "    }\n",
              "\n",
              "    .colab-df-convert {\n",
              "      background-color: #E8F0FE;\n",
              "      border: none;\n",
              "      border-radius: 50%;\n",
              "      cursor: pointer;\n",
              "      display: none;\n",
              "      fill: #1967D2;\n",
              "      height: 32px;\n",
              "      padding: 0 0 0 0;\n",
              "      width: 32px;\n",
              "    }\n",
              "\n",
              "    .colab-df-convert:hover {\n",
              "      background-color: #E2EBFA;\n",
              "      box-shadow: 0px 1px 2px rgba(60, 64, 67, 0.3), 0px 1px 3px 1px rgba(60, 64, 67, 0.15);\n",
              "      fill: #174EA6;\n",
              "    }\n",
              "\n",
              "    [theme=dark] .colab-df-convert {\n",
              "      background-color: #3B4455;\n",
              "      fill: #D2E3FC;\n",
              "    }\n",
              "\n",
              "    [theme=dark] .colab-df-convert:hover {\n",
              "      background-color: #434B5C;\n",
              "      box-shadow: 0px 1px 3px 1px rgba(0, 0, 0, 0.15);\n",
              "      filter: drop-shadow(0px 1px 2px rgba(0, 0, 0, 0.3));\n",
              "      fill: #FFFFFF;\n",
              "    }\n",
              "  </style>\n",
              "\n",
              "      <script>\n",
              "        const buttonEl =\n",
              "          document.querySelector('#df-309d9e63-bd47-49ec-98da-4c16267f3222 button.colab-df-convert');\n",
              "        buttonEl.style.display =\n",
              "          google.colab.kernel.accessAllowed ? 'block' : 'none';\n",
              "\n",
              "        async function convertToInteractive(key) {\n",
              "          const element = document.querySelector('#df-309d9e63-bd47-49ec-98da-4c16267f3222');\n",
              "          const dataTable =\n",
              "            await google.colab.kernel.invokeFunction('convertToInteractive',\n",
              "                                                     [key], {});\n",
              "          if (!dataTable) return;\n",
              "\n",
              "          const docLinkHtml = 'Like what you see? Visit the ' +\n",
              "            '<a target=\"_blank\" href=https://colab.research.google.com/notebooks/data_table.ipynb>data table notebook</a>'\n",
              "            + ' to learn more about interactive tables.';\n",
              "          element.innerHTML = '';\n",
              "          dataTable['output_type'] = 'display_data';\n",
              "          await google.colab.output.renderOutput(dataTable, element);\n",
              "          const docLink = document.createElement('div');\n",
              "          docLink.innerHTML = docLinkHtml;\n",
              "          element.appendChild(docLink);\n",
              "        }\n",
              "      </script>\n",
              "    </div>\n",
              "  </div>\n",
              "  "
            ]
          },
          "metadata": {},
          "execution_count": 163
        }
      ]
    },
    {
      "cell_type": "markdown",
      "source": [
        "menghitung jumlah negara yang memiliki rata-rata umur di bawah 20 tahun di tahun 2020"
      ],
      "metadata": {
        "id": "hDJKbqtsQ5WI"
      }
    },
    {
      "cell_type": "code",
      "source": [
        "under_20_yo_countries_in_2020 = transposing_data[(transposing_data['Years'] == \"2020\") & (transposing_data['Average Age'] < 20)]['Country'].count()\n",
        "under_20_yo_countries_in_2020"
      ],
      "metadata": {
        "colab": {
          "base_uri": "https://localhost:8080/"
        },
        "id": "NaeGQs8X4whc",
        "outputId": "2ef1ebc2-5158-4f74-e668-84f996bac712"
      },
      "execution_count": null,
      "outputs": [
        {
          "output_type": "execute_result",
          "data": {
            "text/plain": [
              "28"
            ]
          },
          "metadata": {},
          "execution_count": 164
        }
      ]
    },
    {
      "cell_type": "markdown",
      "source": [
        "menghitung jumlah negara di dunia pada tahun 2020"
      ],
      "metadata": {
        "id": "RtVUb77IRCQB"
      }
    },
    {
      "cell_type": "code",
      "source": [
        "all_countries_in_2020 = transposing_data[(transposing_data['Years'] == \"2020\")]['Country'].count()\n",
        "all_countries_in_2020"
      ],
      "metadata": {
        "colab": {
          "base_uri": "https://localhost:8080/"
        },
        "id": "4KdJU0cT5NPx",
        "outputId": "cd101e75-5f03-4a75-889a-3edce7513166"
      },
      "execution_count": null,
      "outputs": [
        {
          "output_type": "execute_result",
          "data": {
            "text/plain": [
              "215"
            ]
          },
          "metadata": {},
          "execution_count": 165
        }
      ]
    },
    {
      "cell_type": "markdown",
      "source": [
        "menghitung persentase negara yang memiliki rata-rata umur di bawah 20 tahun di tahun 2020 dengan seluruh jumlah negara di tahun 2020"
      ],
      "metadata": {
        "id": "tg4ke19_RGEv"
      }
    },
    {
      "cell_type": "code",
      "source": [
        "percentage = under_20_yo_countries_in_2020 / all_countries_in_2020 * 100\n",
        "percentage"
      ],
      "metadata": {
        "colab": {
          "base_uri": "https://localhost:8080/"
        },
        "id": "Vnf7CmCP5twR",
        "outputId": "ce14545f-0fca-48d3-9047-df6c98f9b6b1"
      },
      "execution_count": null,
      "outputs": [
        {
          "output_type": "execute_result",
          "data": {
            "text/plain": [
              "13.023255813953488"
            ]
          },
          "metadata": {},
          "execution_count": 166
        }
      ]
    },
    {
      "cell_type": "markdown",
      "source": [
        "**Terdapat sekitar 13% atau 28 negara yang masih memiliki rata-rata umur di bawah 20 tahun. Umumnya negara-negara tersebut berada di Benua Afrika**"
      ],
      "metadata": {
        "id": "z0wJJtjOG475"
      }
    },
    {
      "cell_type": "markdown",
      "source": [
        "### Pertanyaan 4: Bagaimana rata-rata umur penduduk dunia pada tahun 2022?"
      ],
      "metadata": {
        "id": "aZp-P3fddB-M"
      }
    },
    {
      "cell_type": "markdown",
      "source": [
        "Memperoleh rata-rata umur setiap negara pada tahun 2022, kemudian dimasukkan ke dalam kolom bernama 2022"
      ],
      "metadata": {
        "id": "r_1RBKg0RdwK"
      }
    },
    {
      "cell_type": "code",
      "source": [
        "df_id_country = pd.read_csv(\"MedianAge.csv\", index_col=\"Country\") # membuat \"Country\" menjadi index agar lebih mudah diekstrak\n",
        "\n",
        "\n",
        "array_of_present_year_age = [] # list untuk menyimpan nilai pada tahun 2022 \n",
        "\n",
        "for country in transposing_data['Country'].unique(): # looping untuk mendapatkan nilai rata-rata umur setiap negara di tahun 2022\n",
        "  x = transposing_data['Years'].unique().astype('int32') # membuat list tahun pada setiap negara\n",
        "  y = df_id_country.loc[country].values # mengambil list nilai rata-rata umur pada setiap periode waktunya\n",
        "  a,b,r,p, std_err = sts.linregress(x,y) # mengekstrak nilai a,b,r,p, std_err dari fungsi regresi linier\n",
        "  item = a * 2022 + b # menghitung rata-rata umur di tahun 2022 dengan persamaan linier\n",
        "  array_of_present_year_age.append(item) # memasukkan data rata-rata umur tersebut ke dalam list\n",
        "\n",
        "df['2022'] = array_of_present_year_age # membuat kolom baru bernama 2022 yang berisi list dari rata-rata umur di tahun 2022\n",
        "\n",
        "country_2022_table = df[[\"Country\", \"2022\"]] # membuat tabel dengan isi \"Country\" dan \"2022\""
      ],
      "metadata": {
        "id": "p46sh5IpOLzL"
      },
      "execution_count": null,
      "outputs": []
    },
    {
      "cell_type": "markdown",
      "source": [
        "mengecek sebaran data rata-rata umur pada tahun 2022"
      ],
      "metadata": {
        "id": "S__fXX2kSw2Z"
      }
    },
    {
      "cell_type": "code",
      "source": [
        "df['2022'].hist()"
      ],
      "metadata": {
        "colab": {
          "base_uri": "https://localhost:8080/",
          "height": 283
        },
        "id": "dVBv7iU8jIIA",
        "outputId": "835c4e04-09be-4e05-a621-9101b7f292e9"
      },
      "execution_count": null,
      "outputs": [
        {
          "output_type": "execute_result",
          "data": {
            "text/plain": [
              "<matplotlib.axes._subplots.AxesSubplot at 0x7f551306d950>"
            ]
          },
          "metadata": {},
          "execution_count": 168
        },
        {
          "output_type": "display_data",
          "data": {
            "text/plain": [
              "<Figure size 432x288 with 1 Axes>"
            ],
            "image/png": "[encoded data removed]"
          },
          "metadata": {
            "needs_background": "light"
          }
        }
      ]
    },
    {
      "cell_type": "markdown",
      "source": [
        "**Berikut ini adalah data rata-rata umur setiap negara di tahun 2022**"
      ],
      "metadata": {
        "id": "d_herzuG6-90"
      }
    },
    {
      "cell_type": "markdown",
      "source": [
        "mencetak rata-rata umur setiap negara pada tahun 2022"
      ],
      "metadata": {
        "id": "pao_lO8WS2nh"
      }
    },
    {
      "cell_type": "code",
      "source": [
        "country_2022_table"
      ],
      "metadata": {
        "colab": {
          "base_uri": "https://localhost:8080/",
          "height": 423
        },
        "id": "oJRoZ7-U7HnZ",
        "outputId": "c1c3f596-6043-4074-b7fd-58832dc9ebd5"
      },
      "execution_count": null,
      "outputs": [
        {
          "output_type": "execute_result",
          "data": {
            "text/plain": [
              "            Country       2022\n",
              "0       Afghanistan  19.085811\n",
              "1           Albania  34.966459\n",
              "2           Algeria  30.405545\n",
              "3            Angola  20.076198\n",
              "4         Argentina  33.967373\n",
              "..              ...        ...\n",
              "210  Western Europe  43.712634\n",
              "211  Western Sahara  30.274339\n",
              "212     Yemen, Rep.  21.308621\n",
              "213          Zambia  19.625581\n",
              "214        Zimbabwe  23.154752\n",
              "\n",
              "[215 rows x 2 columns]"
            ],
            "text/html": [
              "\n",
              "  <div id=\"df-117b40c7-b1a5-44ba-b0d5-03c33219cac0\">\n",
              "    <div class=\"colab-df-container\">\n",
              "      <div>\n",
              "<style scoped>\n",
              "    .dataframe tbody tr th:only-of-type {\n",
              "        vertical-align: middle;\n",
              "    }\n",
              "\n",
              "    .dataframe tbody tr th {\n",
              "        vertical-align: top;\n",
              "    }\n",
              "\n",
              "    .dataframe thead th {\n",
              "        text-align: right;\n",
              "    }\n",
              "</style>\n",
              "<table border=\"1\" class=\"dataframe\">\n",
              "  <thead>\n",
              "    <tr style=\"text-align: right;\">\n",
              "      <th></th>\n",
              "      <th>Country</th>\n",
              "      <th>2022</th>\n",
              "    </tr>\n",
              "  </thead>\n",
              "  <tbody>\n",
              "    <tr>\n",
              "      <th>0</th>\n",
              "      <td>Afghanistan</td>\n",
              "      <td>19.085811</td>\n",
              "    </tr>\n",
              "    <tr>\n",
              "      <th>1</th>\n",
              "      <td>Albania</td>\n",
              "      <td>34.966459</td>\n",
              "    </tr>\n",
              "    <tr>\n",
              "      <th>2</th>\n",
              "      <td>Algeria</td>\n",
              "      <td>30.405545</td>\n",
              "    </tr>\n",
              "    <tr>\n",
              "      <th>3</th>\n",
              "      <td>Angola</td>\n",
              "      <td>20.076198</td>\n",
              "    </tr>\n",
              "    <tr>\n",
              "      <th>4</th>\n",
              "      <td>Argentina</td>\n",
              "      <td>33.967373</td>\n",
              "    </tr>\n",
              "    <tr>\n",
              "      <th>...</th>\n",
              "      <td>...</td>\n",
              "      <td>...</td>\n",
              "    </tr>\n",
              "    <tr>\n",
              "      <th>210</th>\n",
              "      <td>Western Europe</td>\n",
              "      <td>43.712634</td>\n",
              "    </tr>\n",
              "    <tr>\n",
              "      <th>211</th>\n",
              "      <td>Western Sahara</td>\n",
              "      <td>30.274339</td>\n",
              "    </tr>\n",
              "    <tr>\n",
              "      <th>212</th>\n",
              "      <td>Yemen, Rep.</td>\n",
              "      <td>21.308621</td>\n",
              "    </tr>\n",
              "    <tr>\n",
              "      <th>213</th>\n",
              "      <td>Zambia</td>\n",
              "      <td>19.625581</td>\n",
              "    </tr>\n",
              "    <tr>\n",
              "      <th>214</th>\n",
              "      <td>Zimbabwe</td>\n",
              "      <td>23.154752</td>\n",
              "    </tr>\n",
              "  </tbody>\n",
              "</table>\n",
              "<p>215 rows × 2 columns</p>\n",
              "</div>\n",
              "      <button class=\"colab-df-convert\" onclick=\"convertToInteractive('df-117b40c7-b1a5-44ba-b0d5-03c33219cac0')\"\n",
              "              title=\"Convert this dataframe to an interactive table.\"\n",
              "              style=\"display:none;\">\n",
              "        \n",
              "  <svg xmlns=\"http://www.w3.org/2000/svg\" height=\"24px\"viewBox=\"0 0 24 24\"\n",
              "       width=\"24px\">\n",
              "    <path d=\"M0 0h24v24H0V0z\" fill=\"none\"/>\n",
              "    <path d=\"M18.56 5.44l.94 2.06.94-2.06 2.06-.94-2.06-.94-.94-2.06-.94 2.06-2.06.94zm-11 1L8.5 8.5l.94-2.06 2.06-.94-2.06-.94L8.5 2.5l-.94 2.06-2.06.94zm10 10l.94 2.06.94-2.06 2.06-.94-2.06-.94-.94-2.06-.94 2.06-2.06.94z\"/><path d=\"M17.41 7.96l-1.37-1.37c-.4-.4-.92-.59-1.43-.59-.52 0-1.04.2-1.43.59L10.3 9.45l-7.72 7.72c-.78.78-.78 2.05 0 2.83L4 21.41c.39.39.9.59 1.41.59.51 0 1.02-.2 1.41-.59l7.78-7.78 2.81-2.81c.8-.78.8-2.07 0-2.86zM5.41 20L4 18.59l7.72-7.72 1.47 1.35L5.41 20z\"/>\n",
              "  </svg>\n",
              "      </button>\n",
              "      \n",
              "  <style>\n",
              "    .colab-df-container {\n",
              "      display:flex;\n",
              "      flex-wrap:wrap;\n",
              "      gap: 12px;\n",
              "    }\n",
              "\n",
              "    .colab-df-convert {\n",
              "      background-color: #E8F0FE;\n",
              "      border: none;\n",
              "      border-radius: 50%;\n",
              "      cursor: pointer;\n",
              "      display: none;\n",
              "      fill: #1967D2;\n",
              "      height: 32px;\n",
              "      padding: 0 0 0 0;\n",
              "      width: 32px;\n",
              "    }\n",
              "\n",
              "    .colab-df-convert:hover {\n",
              "      background-color: #E2EBFA;\n",
              "      box-shadow: 0px 1px 2px rgba(60, 64, 67, 0.3), 0px 1px 3px 1px rgba(60, 64, 67, 0.15);\n",
              "      fill: #174EA6;\n",
              "    }\n",
              "\n",
              "    [theme=dark] .colab-df-convert {\n",
              "      background-color: #3B4455;\n",
              "      fill: #D2E3FC;\n",
              "    }\n",
              "\n",
              "    [theme=dark] .colab-df-convert:hover {\n",
              "      background-color: #434B5C;\n",
              "      box-shadow: 0px 1px 3px 1px rgba(0, 0, 0, 0.15);\n",
              "      filter: drop-shadow(0px 1px 2px rgba(0, 0, 0, 0.3));\n",
              "      fill: #FFFFFF;\n",
              "    }\n",
              "  </style>\n",
              "\n",
              "      <script>\n",
              "        const buttonEl =\n",
              "          document.querySelector('#df-117b40c7-b1a5-44ba-b0d5-03c33219cac0 button.colab-df-convert');\n",
              "        buttonEl.style.display =\n",
              "          google.colab.kernel.accessAllowed ? 'block' : 'none';\n",
              "\n",
              "        async function convertToInteractive(key) {\n",
              "          const element = document.querySelector('#df-117b40c7-b1a5-44ba-b0d5-03c33219cac0');\n",
              "          const dataTable =\n",
              "            await google.colab.kernel.invokeFunction('convertToInteractive',\n",
              "                                                     [key], {});\n",
              "          if (!dataTable) return;\n",
              "\n",
              "          const docLinkHtml = 'Like what you see? Visit the ' +\n",
              "            '<a target=\"_blank\" href=https://colab.research.google.com/notebooks/data_table.ipynb>data table notebook</a>'\n",
              "            + ' to learn more about interactive tables.';\n",
              "          element.innerHTML = '';\n",
              "          dataTable['output_type'] = 'display_data';\n",
              "          await google.colab.output.renderOutput(dataTable, element);\n",
              "          const docLink = document.createElement('div');\n",
              "          docLink.innerHTML = docLinkHtml;\n",
              "          element.appendChild(docLink);\n",
              "        }\n",
              "      </script>\n",
              "    </div>\n",
              "  </div>\n",
              "  "
            ]
          },
          "metadata": {},
          "execution_count": 169
        }
      ]
    },
    {
      "cell_type": "markdown",
      "source": [
        "###Pertanyaan 5: Negara mana saja yang termasuk 5% tertinggi dalam rata-rata umur di tahun 2022?"
      ],
      "metadata": {
        "id": "9Egpn0dEGx_s"
      }
    },
    {
      "cell_type": "markdown",
      "source": [
        "mencari negara diatas kuantil 0.95"
      ],
      "metadata": {
        "id": "QEOF7eNnS9bF"
      }
    },
    {
      "cell_type": "code",
      "source": [
        "highest_average_age = country_2022_table[(df['2022'] > df['2022'].quantile(0.95))]\n",
        "highest_average_age"
      ],
      "metadata": {
        "colab": {
          "base_uri": "https://localhost:8080/",
          "height": 394
        },
        "id": "PJKSjr9WrxdS",
        "outputId": "55764f74-c5e2-43c4-de4c-c3a640bffeed"
      },
      "execution_count": null,
      "outputs": [
        {
          "output_type": "execute_result",
          "data": {
            "text/plain": [
              "              Country       2022\n",
              "25           Bulgaria  44.863882\n",
              "36    Channel Islands  44.605699\n",
              "39   Hong Kong, China  44.411918\n",
              "40       Macao, China  43.962421\n",
              "73            Germany  46.639636\n",
              "75             Greece  44.765377\n",
              "93              Italy  46.173697\n",
              "95              Japan  48.278747\n",
              "151          Portugal  44.358949\n",
              "170          Slovenia  44.123223\n",
              "177   Southern Europe  44.222804"
            ],
            "text/html": [
              "\n",
              "  <div id=\"df-3f0392ef-105e-4f91-90a4-21af7acf4b06\">\n",
              "    <div class=\"colab-df-container\">\n",
              "      <div>\n",
              "<style scoped>\n",
              "    .dataframe tbody tr th:only-of-type {\n",
              "        vertical-align: middle;\n",
              "    }\n",
              "\n",
              "    .dataframe tbody tr th {\n",
              "        vertical-align: top;\n",
              "    }\n",
              "\n",
              "    .dataframe thead th {\n",
              "        text-align: right;\n",
              "    }\n",
              "</style>\n",
              "<table border=\"1\" class=\"dataframe\">\n",
              "  <thead>\n",
              "    <tr style=\"text-align: right;\">\n",
              "      <th></th>\n",
              "      <th>Country</th>\n",
              "      <th>2022</th>\n",
              "    </tr>\n",
              "  </thead>\n",
              "  <tbody>\n",
              "    <tr>\n",
              "      <th>25</th>\n",
              "      <td>Bulgaria</td>\n",
              "      <td>44.863882</td>\n",
              "    </tr>\n",
              "    <tr>\n",
              "      <th>36</th>\n",
              "      <td>Channel Islands</td>\n",
              "      <td>44.605699</td>\n",
              "    </tr>\n",
              "    <tr>\n",
              "      <th>39</th>\n",
              "      <td>Hong Kong, China</td>\n",
              "      <td>44.411918</td>\n",
              "    </tr>\n",
              "    <tr>\n",
              "      <th>40</th>\n",
              "      <td>Macao, China</td>\n",
              "      <td>43.962421</td>\n",
              "    </tr>\n",
              "    <tr>\n",
              "      <th>73</th>\n",
              "      <td>Germany</td>\n",
              "      <td>46.639636</td>\n",
              "    </tr>\n",
              "    <tr>\n",
              "      <th>75</th>\n",
              "      <td>Greece</td>\n",
              "      <td>44.765377</td>\n",
              "    </tr>\n",
              "    <tr>\n",
              "      <th>93</th>\n",
              "      <td>Italy</td>\n",
              "      <td>46.173697</td>\n",
              "    </tr>\n",
              "    <tr>\n",
              "      <th>95</th>\n",
              "      <td>Japan</td>\n",
              "      <td>48.278747</td>\n",
              "    </tr>\n",
              "    <tr>\n",
              "      <th>151</th>\n",
              "      <td>Portugal</td>\n",
              "      <td>44.358949</td>\n",
              "    </tr>\n",
              "    <tr>\n",
              "      <th>170</th>\n",
              "      <td>Slovenia</td>\n",
              "      <td>44.123223</td>\n",
              "    </tr>\n",
              "    <tr>\n",
              "      <th>177</th>\n",
              "      <td>Southern Europe</td>\n",
              "      <td>44.222804</td>\n",
              "    </tr>\n",
              "  </tbody>\n",
              "</table>\n",
              "</div>\n",
              "      <button class=\"colab-df-convert\" onclick=\"convertToInteractive('df-3f0392ef-105e-4f91-90a4-21af7acf4b06')\"\n",
              "              title=\"Convert this dataframe to an interactive table.\"\n",
              "              style=\"display:none;\">\n",
              "        \n",
              "  <svg xmlns=\"http://www.w3.org/2000/svg\" height=\"24px\"viewBox=\"0 0 24 24\"\n",
              "       width=\"24px\">\n",
              "    <path d=\"M0 0h24v24H0V0z\" fill=\"none\"/>\n",
              "    <path d=\"M18.56 5.44l.94 2.06.94-2.06 2.06-.94-2.06-.94-.94-2.06-.94 2.06-2.06.94zm-11 1L8.5 8.5l.94-2.06 2.06-.94-2.06-.94L8.5 2.5l-.94 2.06-2.06.94zm10 10l.94 2.06.94-2.06 2.06-.94-2.06-.94-.94-2.06-.94 2.06-2.06.94z\"/><path d=\"M17.41 7.96l-1.37-1.37c-.4-.4-.92-.59-1.43-.59-.52 0-1.04.2-1.43.59L10.3 9.45l-7.72 7.72c-.78.78-.78 2.05 0 2.83L4 21.41c.39.39.9.59 1.41.59.51 0 1.02-.2 1.41-.59l7.78-7.78 2.81-2.81c.8-.78.8-2.07 0-2.86zM5.41 20L4 18.59l7.72-7.72 1.47 1.35L5.41 20z\"/>\n",
              "  </svg>\n",
              "      </button>\n",
              "      \n",
              "  <style>\n",
              "    .colab-df-container {\n",
              "      display:flex;\n",
              "      flex-wrap:wrap;\n",
              "      gap: 12px;\n",
              "    }\n",
              "\n",
              "    .colab-df-convert {\n",
              "      background-color: #E8F0FE;\n",
              "      border: none;\n",
              "      border-radius: 50%;\n",
              "      cursor: pointer;\n",
              "      display: none;\n",
              "      fill: #1967D2;\n",
              "      height: 32px;\n",
              "      padding: 0 0 0 0;\n",
              "      width: 32px;\n",
              "    }\n",
              "\n",
              "    .colab-df-convert:hover {\n",
              "      background-color: #E2EBFA;\n",
              "      box-shadow: 0px 1px 2px rgba(60, 64, 67, 0.3), 0px 1px 3px 1px rgba(60, 64, 67, 0.15);\n",
              "      fill: #174EA6;\n",
              "    }\n",
              "\n",
              "    [theme=dark] .colab-df-convert {\n",
              "      background-color: #3B4455;\n",
              "      fill: #D2E3FC;\n",
              "    }\n",
              "\n",
              "    [theme=dark] .colab-df-convert:hover {\n",
              "      background-color: #434B5C;\n",
              "      box-shadow: 0px 1px 3px 1px rgba(0, 0, 0, 0.15);\n",
              "      filter: drop-shadow(0px 1px 2px rgba(0, 0, 0, 0.3));\n",
              "      fill: #FFFFFF;\n",
              "    }\n",
              "  </style>\n",
              "\n",
              "      <script>\n",
              "        const buttonEl =\n",
              "          document.querySelector('#df-3f0392ef-105e-4f91-90a4-21af7acf4b06 button.colab-df-convert');\n",
              "        buttonEl.style.display =\n",
              "          google.colab.kernel.accessAllowed ? 'block' : 'none';\n",
              "\n",
              "        async function convertToInteractive(key) {\n",
              "          const element = document.querySelector('#df-3f0392ef-105e-4f91-90a4-21af7acf4b06');\n",
              "          const dataTable =\n",
              "            await google.colab.kernel.invokeFunction('convertToInteractive',\n",
              "                                                     [key], {});\n",
              "          if (!dataTable) return;\n",
              "\n",
              "          const docLinkHtml = 'Like what you see? Visit the ' +\n",
              "            '<a target=\"_blank\" href=https://colab.research.google.com/notebooks/data_table.ipynb>data table notebook</a>'\n",
              "            + ' to learn more about interactive tables.';\n",
              "          element.innerHTML = '';\n",
              "          dataTable['output_type'] = 'display_data';\n",
              "          await google.colab.output.renderOutput(dataTable, element);\n",
              "          const docLink = document.createElement('div');\n",
              "          docLink.innerHTML = docLinkHtml;\n",
              "          element.appendChild(docLink);\n",
              "        }\n",
              "      </script>\n",
              "    </div>\n",
              "  </div>\n",
              "  "
            ]
          },
          "metadata": {},
          "execution_count": 170
        }
      ]
    },
    {
      "cell_type": "markdown",
      "source": [
        "menghitung jumlah data 5% negara dengan rata-rata umur tertinggi"
      ],
      "metadata": {
        "id": "VF1bA1xUTGZF"
      }
    },
    {
      "cell_type": "code",
      "source": [
        "highest_average_age.count()"
      ],
      "metadata": {
        "colab": {
          "base_uri": "https://localhost:8080/"
        },
        "id": "dhF6QVvz7Quz",
        "outputId": "ab4f4653-43c5-488c-c095-5cf33da711c9"
      },
      "execution_count": null,
      "outputs": [
        {
          "output_type": "execute_result",
          "data": {
            "text/plain": [
              "Country    11\n",
              "2022       11\n",
              "dtype: int64"
            ]
          },
          "metadata": {},
          "execution_count": 171
        }
      ]
    },
    {
      "cell_type": "markdown",
      "source": [
        "**Terdapat 11 negara di dunia yang memiliki rata-rata umur tertinggi. Berdasarkan data pada tabel, Jepang memiliki rata-rata umur tertinggi dengan nilai 48.2**"
      ],
      "metadata": {
        "id": "wfXdP6z77V8H"
      }
    },
    {
      "cell_type": "markdown",
      "source": [
        "### Pertanyaan 6: Negara mana saja yang termasuk 5% terbawah dalam rata-rata umur di tahun 2022?"
      ],
      "metadata": {
        "id": "elXudPccHsZo"
      }
    },
    {
      "cell_type": "markdown",
      "source": [
        "mencari negara dibawah kuantil 0.05"
      ],
      "metadata": {
        "id": "Eysnd-FnTQwT"
      }
    },
    {
      "cell_type": "code",
      "source": [
        "lowest_average_age = country_2022_table[(df['2022'] < df['2022'].quantile(0.05))]\n",
        "lowest_average_age"
      ],
      "metadata": {
        "colab": {
          "base_uri": "https://localhost:8080/",
          "height": 394
        },
        "id": "KJwLkRJrsv05",
        "outputId": "d02bf2a3-27d9-4ca7-dbfa-7f8a7d76a2ae"
      },
      "execution_count": null,
      "outputs": [
        {
          "output_type": "execute_result",
          "data": {
            "text/plain": [
              "              Country       2022\n",
              "0         Afghanistan  19.085811\n",
              "26       Burkina Faso  19.549457\n",
              "35               Chad  19.610236\n",
              "51   Congo, Dem. Rep.  20.060383\n",
              "110            Malawi  19.886448\n",
              "136             Niger  16.700663\n",
              "172           Somalia  19.472973\n",
              "189       Timor-Leste  19.995156\n",
              "196            Uganda  18.549522\n",
              "200          Tanzania  19.809053\n",
              "213            Zambia  19.625581"
            ],
            "text/html": [
              "\n",
              "  <div id=\"df-11fb0f04-4197-4188-9f5c-96d16778752a\">\n",
              "    <div class=\"colab-df-container\">\n",
              "      <div>\n",
              "<style scoped>\n",
              "    .dataframe tbody tr th:only-of-type {\n",
              "        vertical-align: middle;\n",
              "    }\n",
              "\n",
              "    .dataframe tbody tr th {\n",
              "        vertical-align: top;\n",
              "    }\n",
              "\n",
              "    .dataframe thead th {\n",
              "        text-align: right;\n",
              "    }\n",
              "</style>\n",
              "<table border=\"1\" class=\"dataframe\">\n",
              "  <thead>\n",
              "    <tr style=\"text-align: right;\">\n",
              "      <th></th>\n",
              "      <th>Country</th>\n",
              "      <th>2022</th>\n",
              "    </tr>\n",
              "  </thead>\n",
              "  <tbody>\n",
              "    <tr>\n",
              "      <th>0</th>\n",
              "      <td>Afghanistan</td>\n",
              "      <td>19.085811</td>\n",
              "    </tr>\n",
              "    <tr>\n",
              "      <th>26</th>\n",
              "      <td>Burkina Faso</td>\n",
              "      <td>19.549457</td>\n",
              "    </tr>\n",
              "    <tr>\n",
              "      <th>35</th>\n",
              "      <td>Chad</td>\n",
              "      <td>19.610236</td>\n",
              "    </tr>\n",
              "    <tr>\n",
              "      <th>51</th>\n",
              "      <td>Congo, Dem. Rep.</td>\n",
              "      <td>20.060383</td>\n",
              "    </tr>\n",
              "    <tr>\n",
              "      <th>110</th>\n",
              "      <td>Malawi</td>\n",
              "      <td>19.886448</td>\n",
              "    </tr>\n",
              "    <tr>\n",
              "      <th>136</th>\n",
              "      <td>Niger</td>\n",
              "      <td>16.700663</td>\n",
              "    </tr>\n",
              "    <tr>\n",
              "      <th>172</th>\n",
              "      <td>Somalia</td>\n",
              "      <td>19.472973</td>\n",
              "    </tr>\n",
              "    <tr>\n",
              "      <th>189</th>\n",
              "      <td>Timor-Leste</td>\n",
              "      <td>19.995156</td>\n",
              "    </tr>\n",
              "    <tr>\n",
              "      <th>196</th>\n",
              "      <td>Uganda</td>\n",
              "      <td>18.549522</td>\n",
              "    </tr>\n",
              "    <tr>\n",
              "      <th>200</th>\n",
              "      <td>Tanzania</td>\n",
              "      <td>19.809053</td>\n",
              "    </tr>\n",
              "    <tr>\n",
              "      <th>213</th>\n",
              "      <td>Zambia</td>\n",
              "      <td>19.625581</td>\n",
              "    </tr>\n",
              "  </tbody>\n",
              "</table>\n",
              "</div>\n",
              "      <button class=\"colab-df-convert\" onclick=\"convertToInteractive('df-11fb0f04-4197-4188-9f5c-96d16778752a')\"\n",
              "              title=\"Convert this dataframe to an interactive table.\"\n",
              "              style=\"display:none;\">\n",
              "        \n",
              "  <svg xmlns=\"http://www.w3.org/2000/svg\" height=\"24px\"viewBox=\"0 0 24 24\"\n",
              "       width=\"24px\">\n",
              "    <path d=\"M0 0h24v24H0V0z\" fill=\"none\"/>\n",
              "    <path d=\"M18.56 5.44l.94 2.06.94-2.06 2.06-.94-2.06-.94-.94-2.06-.94 2.06-2.06.94zm-11 1L8.5 8.5l.94-2.06 2.06-.94-2.06-.94L8.5 2.5l-.94 2.06-2.06.94zm10 10l.94 2.06.94-2.06 2.06-.94-2.06-.94-.94-2.06-.94 2.06-2.06.94z\"/><path d=\"M17.41 7.96l-1.37-1.37c-.4-.4-.92-.59-1.43-.59-.52 0-1.04.2-1.43.59L10.3 9.45l-7.72 7.72c-.78.78-.78 2.05 0 2.83L4 21.41c.39.39.9.59 1.41.59.51 0 1.02-.2 1.41-.59l7.78-7.78 2.81-2.81c.8-.78.8-2.07 0-2.86zM5.41 20L4 18.59l7.72-7.72 1.47 1.35L5.41 20z\"/>\n",
              "  </svg>\n",
              "      </button>\n",
              "      \n",
              "  <style>\n",
              "    .colab-df-container {\n",
              "      display:flex;\n",
              "      flex-wrap:wrap;\n",
              "      gap: 12px;\n",
              "    }\n",
              "\n",
              "    .colab-df-convert {\n",
              "      background-color: #E8F0FE;\n",
              "      border: none;\n",
              "      border-radius: 50%;\n",
              "      cursor: pointer;\n",
              "      display: none;\n",
              "      fill: #1967D2;\n",
              "      height: 32px;\n",
              "      padding: 0 0 0 0;\n",
              "      width: 32px;\n",
              "    }\n",
              "\n",
              "    .colab-df-convert:hover {\n",
              "      background-color: #E2EBFA;\n",
              "      box-shadow: 0px 1px 2px rgba(60, 64, 67, 0.3), 0px 1px 3px 1px rgba(60, 64, 67, 0.15);\n",
              "      fill: #174EA6;\n",
              "    }\n",
              "\n",
              "    [theme=dark] .colab-df-convert {\n",
              "      background-color: #3B4455;\n",
              "      fill: #D2E3FC;\n",
              "    }\n",
              "\n",
              "    [theme=dark] .colab-df-convert:hover {\n",
              "      background-color: #434B5C;\n",
              "      box-shadow: 0px 1px 3px 1px rgba(0, 0, 0, 0.15);\n",
              "      filter: drop-shadow(0px 1px 2px rgba(0, 0, 0, 0.3));\n",
              "      fill: #FFFFFF;\n",
              "    }\n",
              "  </style>\n",
              "\n",
              "      <script>\n",
              "        const buttonEl =\n",
              "          document.querySelector('#df-11fb0f04-4197-4188-9f5c-96d16778752a button.colab-df-convert');\n",
              "        buttonEl.style.display =\n",
              "          google.colab.kernel.accessAllowed ? 'block' : 'none';\n",
              "\n",
              "        async function convertToInteractive(key) {\n",
              "          const element = document.querySelector('#df-11fb0f04-4197-4188-9f5c-96d16778752a');\n",
              "          const dataTable =\n",
              "            await google.colab.kernel.invokeFunction('convertToInteractive',\n",
              "                                                     [key], {});\n",
              "          if (!dataTable) return;\n",
              "\n",
              "          const docLinkHtml = 'Like what you see? Visit the ' +\n",
              "            '<a target=\"_blank\" href=https://colab.research.google.com/notebooks/data_table.ipynb>data table notebook</a>'\n",
              "            + ' to learn more about interactive tables.';\n",
              "          element.innerHTML = '';\n",
              "          dataTable['output_type'] = 'display_data';\n",
              "          await google.colab.output.renderOutput(dataTable, element);\n",
              "          const docLink = document.createElement('div');\n",
              "          docLink.innerHTML = docLinkHtml;\n",
              "          element.appendChild(docLink);\n",
              "        }\n",
              "      </script>\n",
              "    </div>\n",
              "  </div>\n",
              "  "
            ]
          },
          "metadata": {},
          "execution_count": 172
        }
      ]
    },
    {
      "cell_type": "markdown",
      "source": [
        "menghitung jumlah data 5% negara dengan rata-rata umur terendah"
      ],
      "metadata": {
        "id": "8DVEEWrtTU7q"
      }
    },
    {
      "cell_type": "code",
      "source": [
        "lowest_average_age.count()"
      ],
      "metadata": {
        "colab": {
          "base_uri": "https://localhost:8080/"
        },
        "id": "G8mR_H3J76TA",
        "outputId": "4b956ab5-8453-4314-9fd2-4eed8b2db3e0"
      },
      "execution_count": null,
      "outputs": [
        {
          "output_type": "execute_result",
          "data": {
            "text/plain": [
              "Country    11\n",
              "2022       11\n",
              "dtype: int64"
            ]
          },
          "metadata": {},
          "execution_count": 173
        }
      ]
    },
    {
      "cell_type": "markdown",
      "source": [
        "**Terdapat 11 negara di dunia yang memiliki rata-rata umur terendah. Berdasarkan data pada tabel, Niger memiliki rata-rata umur tertinggi dengan nilai 16.7**"
      ],
      "metadata": {
        "id": "PrAOpOhx8Ifg"
      }
    },
    {
      "cell_type": "markdown",
      "source": [
        "### Pertanyaan 7: Berapa rata-rata umur negara indonesia pada tahun 2022?"
      ],
      "metadata": {
        "id": "eXI5vZ5Gd7uw"
      }
    },
    {
      "cell_type": "markdown",
      "source": [
        "mencari data yang memiliki indeks \"Indonesia\""
      ],
      "metadata": {
        "id": "g1HYoL6Wm2j6"
      }
    },
    {
      "cell_type": "code",
      "source": [
        "df_country_index = df.set_index('Country')\n",
        "df_country_index.loc['Indonesia'][['2022']]"
      ],
      "metadata": {
        "colab": {
          "base_uri": "https://localhost:8080/"
        },
        "id": "BfKG7ZGss8__",
        "outputId": "36de25bf-bee8-403b-c6e0-a78eb1c6b25c"
      },
      "execution_count": null,
      "outputs": [
        {
          "output_type": "execute_result",
          "data": {
            "text/plain": [
              "2022    32.418288\n",
              "Name: Indonesia, dtype: float64"
            ]
          },
          "metadata": {},
          "execution_count": 174
        }
      ]
    },
    {
      "cell_type": "markdown",
      "source": [
        "**Pada tahun ini Indonesia memiliki rata-rata umur sebesar 32.4 tahun**"
      ],
      "metadata": {
        "id": "7F-wvTIi8Z1z"
      }
    },
    {
      "cell_type": "markdown",
      "source": [
        "### Pertanyaan 8: Berapa selisih antara rata-rata umur indonesia pada tahun 1950 dengan 2022? Bagaimana perbandingannya dengan negara tetangga seperti Malaysia?"
      ],
      "metadata": {
        "id": "_YyZ3iq5eAyN"
      }
    },
    {
      "cell_type": "markdown",
      "source": [
        "mengambil data Indonesia pada tahun 1950 dan mengambil data Indonesia pada tahun 2022. Kemudian dicari selisihnya"
      ],
      "metadata": {
        "id": "hO7x6n9knH13"
      }
    },
    {
      "cell_type": "code",
      "source": [
        "indonesian_data = df_country_index.loc['Indonesia']\n",
        "\n",
        "get_1950_indonesian_data = indonesian_data[0] # data rata-rata umur Indonesia di tahun 1950\n",
        "get_2022_indonesian_data = indonesian_data[-1] # data rata-rata umur Indonesia di tahun 2022\n",
        "\n",
        "difference_of_2022_1950_indonesian = get_2022_indonesian_data - get_1950_indonesian_data\n",
        "difference_of_2022_1950_indonesian"
      ],
      "metadata": {
        "colab": {
          "base_uri": "https://localhost:8080/"
        },
        "id": "KhYMS9F6v372",
        "outputId": "84a3faad-80a8-4303-ab88-ff32f69cee5e"
      },
      "execution_count": null,
      "outputs": [
        {
          "output_type": "execute_result",
          "data": {
            "text/plain": [
              "12.397287619047646"
            ]
          },
          "metadata": {},
          "execution_count": 175
        }
      ]
    },
    {
      "cell_type": "markdown",
      "source": [
        "mengambil data Malaysia pada tahun 1950 dan mengambil data Malaysia pada tahun 2022. Kemudian dicari selisihnya"
      ],
      "metadata": {
        "id": "KCP2bMptnXza"
      }
    },
    {
      "cell_type": "code",
      "source": [
        "malaysian_data = df_country_index.loc['Malaysia']\n",
        "\n",
        "get_1950_malaysian_data = malaysian_data[0] # data rata-rata umur Malaysia di tahun 1950\n",
        "get_2022_malaysian_data = malaysian_data[-1]# data rata-rata umur Malaysia di tahun 2022\n",
        "\n",
        "difference_of_2022_1950_malaysian = get_2022_malaysian_data - get_1950_malaysian_data\n",
        "difference_of_2022_1950_malaysian"
      ],
      "metadata": {
        "colab": {
          "base_uri": "https://localhost:8080/"
        },
        "id": "yAkBZFfG9eqQ",
        "outputId": "a215e50b-8292-4b0d-a751-ecc200ca4241"
      },
      "execution_count": null,
      "outputs": [
        {
          "output_type": "execute_result",
          "data": {
            "text/plain": [
              "10.86895238095233"
            ]
          },
          "metadata": {},
          "execution_count": 176
        }
      ]
    },
    {
      "cell_type": "markdown",
      "source": [
        "**Indonesia memiliki peningkatan rata-rata umur dari tahun 1950-2022 sebesar 12.39 tahun. Pertumbuhan Indonesia ini terbilang lebih besar daripada Malaysia yang bertumbuh sebesar 10.86**"
      ],
      "metadata": {
        "id": "Yu3625P69X5N"
      }
    },
    {
      "cell_type": "markdown",
      "source": [
        "### Pertanyaan 9: Berapa selisih antara rata-rata umur Indonesia pada tahun 2022 dengan 2050? Bagaimana perbandingannya dengan negara tetangga seperti Malaysia?"
      ],
      "metadata": {
        "id": "jhDPDH2JLEAr"
      }
    },
    {
      "cell_type": "markdown",
      "source": [
        "mengambil data Indonesia pada tahun 2050. Kemudian dikurangi dengan data Indonesia pada tahun 2022"
      ],
      "metadata": {
        "id": "ReCpGvJNnqx4"
      }
    },
    {
      "cell_type": "code",
      "source": [
        "get_2050_indonesian_data = indonesian_data[-2]\n",
        "\n",
        "difference_of_2050_2022_indonesian = get_2050_indonesian_data - get_2022_indonesian_data\n",
        "difference_of_2050_2022_indonesian"
      ],
      "metadata": {
        "colab": {
          "base_uri": "https://localhost:8080/"
        },
        "id": "efZtcHSrxZsv",
        "outputId": "6e3cfc86-ca33-4fa1-be5f-3c948e8d4249"
      },
      "execution_count": null,
      "outputs": [
        {
          "output_type": "execute_result",
          "data": {
            "text/plain": [
              "8.731712380952352"
            ]
          },
          "metadata": {},
          "execution_count": 177
        }
      ]
    },
    {
      "cell_type": "markdown",
      "source": [
        "mengambil data Malaysia pada tahun 2050. Kemudian dikurangi dengan data Malaysia pada tahun 2022"
      ],
      "metadata": {
        "id": "42YxVOhQn0YY"
      }
    },
    {
      "cell_type": "code",
      "source": [
        "get_2050_malaysian_data = malaysian_data[-2]\n",
        "\n",
        "difference_of_2050_2022_malaysian = get_2050_malaysian_data - get_2022_malaysian_data\n",
        "difference_of_2050_2022_malaysian"
      ],
      "metadata": {
        "colab": {
          "base_uri": "https://localhost:8080/"
        },
        "id": "hnq1-UXn-jEo",
        "outputId": "8618ede6-5845-4e3b-a240-0ffae942e054"
      },
      "execution_count": null,
      "outputs": [
        {
          "output_type": "execute_result",
          "data": {
            "text/plain": [
              "8.655047619047672"
            ]
          },
          "metadata": {},
          "execution_count": 178
        }
      ]
    },
    {
      "cell_type": "markdown",
      "source": [
        "**Indonesia diperkirakan memiliki peningkatan rata-rata umur dari 2022-2050 sebesar 8.7 tahun. Pertumbuhan Indonesia ini terbilang sedikit lebih besar daripada Malaysia yang bertumbuh sebesar 8.56**"
      ],
      "metadata": {
        "id": "kJSBdVFL-tXM"
      }
    },
    {
      "cell_type": "markdown",
      "source": [
        "### Pertanyaan 10: Bagaimana posisi Indonesia dalam rata-rata umur negara-negara di Dunia pada tahun 2022?"
      ],
      "metadata": {
        "id": "Zyp9c9GgLPbz"
      }
    },
    {
      "cell_type": "markdown",
      "source": [
        "mencari tau selisih umur Indonesia pada tahun 2022 dengan negara yang memiliki umur tertinggi pada tahun 2022"
      ],
      "metadata": {
        "id": "9CJ0XC8jn525"
      }
    },
    {
      "cell_type": "code",
      "source": [
        "get_max_2022 = df['2022'].max()\n",
        "\n",
        "difference_indonesia_with_maximum_average_age_country = get_max_2022 - get_2022_indonesian_data\n",
        "difference_indonesia_with_maximum_average_age_country"
      ],
      "metadata": {
        "colab": {
          "base_uri": "https://localhost:8080/"
        },
        "id": "QMCOCJW7x_6v",
        "outputId": "fc257dc1-8eaa-4bb8-a0df-13668017fcaa"
      },
      "execution_count": null,
      "outputs": [
        {
          "output_type": "execute_result",
          "data": {
            "text/plain": [
              "15.860459047618974"
            ]
          },
          "metadata": {},
          "execution_count": 179
        }
      ]
    },
    {
      "cell_type": "markdown",
      "source": [
        "mencari tau selisih umur Indonesia pada tahun 2022 dengan negara yang memiliki umur terendah pada tahun 2022"
      ],
      "metadata": {
        "id": "Fve6lT6ooIIp"
      }
    },
    {
      "cell_type": "code",
      "source": [
        "get_min_2022 = df['2022'].min()\n",
        "difference_indonesia_with_minimum_average_age_country = get_2022_indonesian_data - get_min_2022 \n",
        "difference_indonesia_with_minimum_average_age_country"
      ],
      "metadata": {
        "colab": {
          "base_uri": "https://localhost:8080/"
        },
        "id": "QwE3scIn8qOZ",
        "outputId": "816961f1-2eff-4f23-b63a-e393b926b353"
      },
      "execution_count": null,
      "outputs": [
        {
          "output_type": "execute_result",
          "data": {
            "text/plain": [
              "15.717624761904784"
            ]
          },
          "metadata": {},
          "execution_count": 180
        }
      ]
    },
    {
      "cell_type": "markdown",
      "source": [
        "mencari tau selisih umur Indonesia pada tahun 2022 dengan nilai median pada rata-rata umur tahun 2022"
      ],
      "metadata": {
        "id": "HU9bq1NzoNMm"
      }
    },
    {
      "cell_type": "code",
      "source": [
        "get_median_2022 = df['2022'].median()\n",
        "get_2022_indonesian_data - get_median_2022"
      ],
      "metadata": {
        "colab": {
          "base_uri": "https://localhost:8080/"
        },
        "id": "6ICJmAUH_dTi",
        "outputId": "c10973ee-f396-4c69-838a-b50f34ce7a90"
      },
      "execution_count": null,
      "outputs": [
        {
          "output_type": "execute_result",
          "data": {
            "text/plain": [
              "1.7315695238095827"
            ]
          },
          "metadata": {},
          "execution_count": 181
        }
      ]
    },
    {
      "cell_type": "markdown",
      "source": [
        "**Dalam kancah internasional, rata-rata umur Indonesia terbilang berada di tengah-tengah karena berada sedikit lebih tinggi dari median. Dengan data ini dapat dikatakan juga bahwa rata-rata umur hidup penduduk Indonesia cukup normal**"
      ],
      "metadata": {
        "id": "_HBzBYAU_Vga"
      }
    }
  ]
}